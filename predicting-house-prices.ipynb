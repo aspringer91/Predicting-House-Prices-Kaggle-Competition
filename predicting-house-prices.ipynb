{
 "cells": [
  {
   "cell_type": "markdown",
   "metadata": {
    "_uuid": "c0428551b8f933d571cfa236d891186cc0658fc8"
   },
   "source": [
    "HOUSING DATA ANALYSIS: PREDICT HOUSE PRICES\n",
    "\n",
    "This analysis predicts home prices using various regression techniques including linear, lasso, ridge, KNN, and Random Forests."
   ]
  },
  {
   "cell_type": "code",
   "execution_count": 1,
   "metadata": {
    "_cell_guid": "b1076dfc-b9ad-4769-8c92-a6c4dae69d19",
    "_uuid": "e85bb606e6a0b124003c627319fb7a31e2a76561"
   },
   "outputs": [
    {
     "name": "stdout",
     "output_type": "stream",
     "text": [
      "['train.csv', 'sample_submission.csv', 'test.csv', 'data_description.txt']\n"
     ]
    }
   ],
   "source": [
    "# This Python 3 environment comes with many helpful analytics libraries installed\n",
    "# It is defined by the kaggle/python docker image: https://github.com/kaggle/docker-python\n",
    "# For example, here's several helpful packages to load in \n",
    "\n",
    "import numpy as np # linear algebra\n",
    "import pandas as pd # data processing, CSV file I/O (e.g. pd.read_csv)\n",
    "\n",
    "# Input data files are available in the \"../input/\" directory.\n",
    "# For example, running this (by clicking run or pressing Shift+Enter) will list the files in the input directory\n",
    "\n",
    "import os\n",
    "print(os.listdir(\"../input\"))\n",
    "import matplotlib.pyplot as plt\n",
    "import seaborn as sns\n",
    "%matplotlib inline\n",
    "\n",
    "# Any results you write to the current directory are saved as output."
   ]
  },
  {
   "cell_type": "markdown",
   "metadata": {
    "_uuid": "48b9e89cf550eb0283cbd79db5eb55d27a880074"
   },
   "source": [
    "READ IN THE DATA FILES "
   ]
  },
  {
   "cell_type": "code",
   "execution_count": 2,
   "metadata": {
    "_cell_guid": "79c7e3d0-c299-4dcb-8224-4455121ee9b0",
    "_uuid": "b1c99c43cf4a90874a1e844740aaa0882edc3909"
   },
   "outputs": [],
   "source": [
    "train = pd.read_csv('../input/train.csv')\n",
    "test = pd.read_csv('../input/test.csv')\n",
    "sample = pd.read_csv('../input/sample_submission.csv')"
   ]
  },
  {
   "cell_type": "code",
   "execution_count": 3,
   "metadata": {
    "_uuid": "8135ef77f99699e1717f1436884d3f746e870684"
   },
   "outputs": [
    {
     "name": "stdout",
     "output_type": "stream",
     "text": [
      "<class 'pandas.core.frame.DataFrame'>\n",
      "RangeIndex: 1460 entries, 0 to 1459\n",
      "Data columns (total 81 columns):\n",
      "Id               1460 non-null int64\n",
      "MSSubClass       1460 non-null int64\n",
      "MSZoning         1460 non-null object\n",
      "LotFrontage      1201 non-null float64\n",
      "LotArea          1460 non-null int64\n",
      "Street           1460 non-null object\n",
      "Alley            91 non-null object\n",
      "LotShape         1460 non-null object\n",
      "LandContour      1460 non-null object\n",
      "Utilities        1460 non-null object\n",
      "LotConfig        1460 non-null object\n",
      "LandSlope        1460 non-null object\n",
      "Neighborhood     1460 non-null object\n",
      "Condition1       1460 non-null object\n",
      "Condition2       1460 non-null object\n",
      "BldgType         1460 non-null object\n",
      "HouseStyle       1460 non-null object\n",
      "OverallQual      1460 non-null int64\n",
      "OverallCond      1460 non-null int64\n",
      "YearBuilt        1460 non-null int64\n",
      "YearRemodAdd     1460 non-null int64\n",
      "RoofStyle        1460 non-null object\n",
      "RoofMatl         1460 non-null object\n",
      "Exterior1st      1460 non-null object\n",
      "Exterior2nd      1460 non-null object\n",
      "MasVnrType       1452 non-null object\n",
      "MasVnrArea       1452 non-null float64\n",
      "ExterQual        1460 non-null object\n",
      "ExterCond        1460 non-null object\n",
      "Foundation       1460 non-null object\n",
      "BsmtQual         1423 non-null object\n",
      "BsmtCond         1423 non-null object\n",
      "BsmtExposure     1422 non-null object\n",
      "BsmtFinType1     1423 non-null object\n",
      "BsmtFinSF1       1460 non-null int64\n",
      "BsmtFinType2     1422 non-null object\n",
      "BsmtFinSF2       1460 non-null int64\n",
      "BsmtUnfSF        1460 non-null int64\n",
      "TotalBsmtSF      1460 non-null int64\n",
      "Heating          1460 non-null object\n",
      "HeatingQC        1460 non-null object\n",
      "CentralAir       1460 non-null object\n",
      "Electrical       1459 non-null object\n",
      "1stFlrSF         1460 non-null int64\n",
      "2ndFlrSF         1460 non-null int64\n",
      "LowQualFinSF     1460 non-null int64\n",
      "GrLivArea        1460 non-null int64\n",
      "BsmtFullBath     1460 non-null int64\n",
      "BsmtHalfBath     1460 non-null int64\n",
      "FullBath         1460 non-null int64\n",
      "HalfBath         1460 non-null int64\n",
      "BedroomAbvGr     1460 non-null int64\n",
      "KitchenAbvGr     1460 non-null int64\n",
      "KitchenQual      1460 non-null object\n",
      "TotRmsAbvGrd     1460 non-null int64\n",
      "Functional       1460 non-null object\n",
      "Fireplaces       1460 non-null int64\n",
      "FireplaceQu      770 non-null object\n",
      "GarageType       1379 non-null object\n",
      "GarageYrBlt      1379 non-null float64\n",
      "GarageFinish     1379 non-null object\n",
      "GarageCars       1460 non-null int64\n",
      "GarageArea       1460 non-null int64\n",
      "GarageQual       1379 non-null object\n",
      "GarageCond       1379 non-null object\n",
      "PavedDrive       1460 non-null object\n",
      "WoodDeckSF       1460 non-null int64\n",
      "OpenPorchSF      1460 non-null int64\n",
      "EnclosedPorch    1460 non-null int64\n",
      "3SsnPorch        1460 non-null int64\n",
      "ScreenPorch      1460 non-null int64\n",
      "PoolArea         1460 non-null int64\n",
      "PoolQC           7 non-null object\n",
      "Fence            281 non-null object\n",
      "MiscFeature      54 non-null object\n",
      "MiscVal          1460 non-null int64\n",
      "MoSold           1460 non-null int64\n",
      "YrSold           1460 non-null int64\n",
      "SaleType         1460 non-null object\n",
      "SaleCondition    1460 non-null object\n",
      "SalePrice        1460 non-null int64\n",
      "dtypes: float64(3), int64(35), object(43)\n",
      "memory usage: 924.0+ KB\n"
     ]
    }
   ],
   "source": [
    "train.info()"
   ]
  },
  {
   "cell_type": "code",
   "execution_count": 4,
   "metadata": {
    "_uuid": "d1a02ee6679b84890043e0a586394f98036d8079"
   },
   "outputs": [
    {
     "name": "stdout",
     "output_type": "stream",
     "text": [
      "<class 'pandas.core.frame.DataFrame'>\n",
      "RangeIndex: 1459 entries, 0 to 1458\n",
      "Data columns (total 80 columns):\n",
      "Id               1459 non-null int64\n",
      "MSSubClass       1459 non-null int64\n",
      "MSZoning         1455 non-null object\n",
      "LotFrontage      1232 non-null float64\n",
      "LotArea          1459 non-null int64\n",
      "Street           1459 non-null object\n",
      "Alley            107 non-null object\n",
      "LotShape         1459 non-null object\n",
      "LandContour      1459 non-null object\n",
      "Utilities        1457 non-null object\n",
      "LotConfig        1459 non-null object\n",
      "LandSlope        1459 non-null object\n",
      "Neighborhood     1459 non-null object\n",
      "Condition1       1459 non-null object\n",
      "Condition2       1459 non-null object\n",
      "BldgType         1459 non-null object\n",
      "HouseStyle       1459 non-null object\n",
      "OverallQual      1459 non-null int64\n",
      "OverallCond      1459 non-null int64\n",
      "YearBuilt        1459 non-null int64\n",
      "YearRemodAdd     1459 non-null int64\n",
      "RoofStyle        1459 non-null object\n",
      "RoofMatl         1459 non-null object\n",
      "Exterior1st      1458 non-null object\n",
      "Exterior2nd      1458 non-null object\n",
      "MasVnrType       1443 non-null object\n",
      "MasVnrArea       1444 non-null float64\n",
      "ExterQual        1459 non-null object\n",
      "ExterCond        1459 non-null object\n",
      "Foundation       1459 non-null object\n",
      "BsmtQual         1415 non-null object\n",
      "BsmtCond         1414 non-null object\n",
      "BsmtExposure     1415 non-null object\n",
      "BsmtFinType1     1417 non-null object\n",
      "BsmtFinSF1       1458 non-null float64\n",
      "BsmtFinType2     1417 non-null object\n",
      "BsmtFinSF2       1458 non-null float64\n",
      "BsmtUnfSF        1458 non-null float64\n",
      "TotalBsmtSF      1458 non-null float64\n",
      "Heating          1459 non-null object\n",
      "HeatingQC        1459 non-null object\n",
      "CentralAir       1459 non-null object\n",
      "Electrical       1459 non-null object\n",
      "1stFlrSF         1459 non-null int64\n",
      "2ndFlrSF         1459 non-null int64\n",
      "LowQualFinSF     1459 non-null int64\n",
      "GrLivArea        1459 non-null int64\n",
      "BsmtFullBath     1457 non-null float64\n",
      "BsmtHalfBath     1457 non-null float64\n",
      "FullBath         1459 non-null int64\n",
      "HalfBath         1459 non-null int64\n",
      "BedroomAbvGr     1459 non-null int64\n",
      "KitchenAbvGr     1459 non-null int64\n",
      "KitchenQual      1458 non-null object\n",
      "TotRmsAbvGrd     1459 non-null int64\n",
      "Functional       1457 non-null object\n",
      "Fireplaces       1459 non-null int64\n",
      "FireplaceQu      729 non-null object\n",
      "GarageType       1383 non-null object\n",
      "GarageYrBlt      1381 non-null float64\n",
      "GarageFinish     1381 non-null object\n",
      "GarageCars       1458 non-null float64\n",
      "GarageArea       1458 non-null float64\n",
      "GarageQual       1381 non-null object\n",
      "GarageCond       1381 non-null object\n",
      "PavedDrive       1459 non-null object\n",
      "WoodDeckSF       1459 non-null int64\n",
      "OpenPorchSF      1459 non-null int64\n",
      "EnclosedPorch    1459 non-null int64\n",
      "3SsnPorch        1459 non-null int64\n",
      "ScreenPorch      1459 non-null int64\n",
      "PoolArea         1459 non-null int64\n",
      "PoolQC           3 non-null object\n",
      "Fence            290 non-null object\n",
      "MiscFeature      51 non-null object\n",
      "MiscVal          1459 non-null int64\n",
      "MoSold           1459 non-null int64\n",
      "YrSold           1459 non-null int64\n",
      "SaleType         1458 non-null object\n",
      "SaleCondition    1459 non-null object\n",
      "dtypes: float64(11), int64(26), object(43)\n",
      "memory usage: 912.0+ KB\n"
     ]
    }
   ],
   "source": [
    "test.info()"
   ]
  },
  {
   "cell_type": "code",
   "execution_count": 5,
   "metadata": {
    "_uuid": "8a5ed52ab0b76261c7d3c0a493a9c7b3c09b715f"
   },
   "outputs": [
    {
     "name": "stdout",
     "output_type": "stream",
     "text": [
      "<class 'pandas.core.frame.DataFrame'>\n",
      "RangeIndex: 1460 entries, 0 to 1459\n",
      "Data columns (total 81 columns):\n",
      "Id               1460 non-null int64\n",
      "MSSubClass       1460 non-null int64\n",
      "MSZoning         1460 non-null object\n",
      "LotFrontage      1201 non-null float64\n",
      "LotArea          1460 non-null int64\n",
      "Street           1460 non-null object\n",
      "Alley            91 non-null object\n",
      "LotShape         1460 non-null object\n",
      "LandContour      1460 non-null object\n",
      "Utilities        1460 non-null object\n",
      "LotConfig        1460 non-null object\n",
      "LandSlope        1460 non-null object\n",
      "Neighborhood     1460 non-null object\n",
      "Condition1       1460 non-null object\n",
      "Condition2       1460 non-null object\n",
      "BldgType         1460 non-null object\n",
      "HouseStyle       1460 non-null object\n",
      "OverallQual      1460 non-null int64\n",
      "OverallCond      1460 non-null int64\n",
      "YearBuilt        1460 non-null int64\n",
      "YearRemodAdd     1460 non-null int64\n",
      "RoofStyle        1460 non-null object\n",
      "RoofMatl         1460 non-null object\n",
      "Exterior1st      1460 non-null object\n",
      "Exterior2nd      1460 non-null object\n",
      "MasVnrType       1452 non-null object\n",
      "MasVnrArea       1452 non-null float64\n",
      "ExterQual        1460 non-null object\n",
      "ExterCond        1460 non-null object\n",
      "Foundation       1460 non-null object\n",
      "BsmtQual         1423 non-null object\n",
      "BsmtCond         1423 non-null object\n",
      "BsmtExposure     1422 non-null object\n",
      "BsmtFinType1     1423 non-null object\n",
      "BsmtFinSF1       1460 non-null int64\n",
      "BsmtFinType2     1422 non-null object\n",
      "BsmtFinSF2       1460 non-null int64\n",
      "BsmtUnfSF        1460 non-null int64\n",
      "TotalBsmtSF      1460 non-null int64\n",
      "Heating          1460 non-null object\n",
      "HeatingQC        1460 non-null object\n",
      "CentralAir       1460 non-null object\n",
      "Electrical       1459 non-null object\n",
      "1stFlrSF         1460 non-null int64\n",
      "2ndFlrSF         1460 non-null int64\n",
      "LowQualFinSF     1460 non-null int64\n",
      "GrLivArea        1460 non-null int64\n",
      "BsmtFullBath     1460 non-null int64\n",
      "BsmtHalfBath     1460 non-null int64\n",
      "FullBath         1460 non-null int64\n",
      "HalfBath         1460 non-null int64\n",
      "BedroomAbvGr     1460 non-null int64\n",
      "KitchenAbvGr     1460 non-null int64\n",
      "KitchenQual      1460 non-null object\n",
      "TotRmsAbvGrd     1460 non-null int64\n",
      "Functional       1460 non-null object\n",
      "Fireplaces       1460 non-null int64\n",
      "FireplaceQu      770 non-null object\n",
      "GarageType       1379 non-null object\n",
      "GarageYrBlt      1379 non-null float64\n",
      "GarageFinish     1379 non-null object\n",
      "GarageCars       1460 non-null int64\n",
      "GarageArea       1460 non-null int64\n",
      "GarageQual       1379 non-null object\n",
      "GarageCond       1379 non-null object\n",
      "PavedDrive       1460 non-null object\n",
      "WoodDeckSF       1460 non-null int64\n",
      "OpenPorchSF      1460 non-null int64\n",
      "EnclosedPorch    1460 non-null int64\n",
      "3SsnPorch        1460 non-null int64\n",
      "ScreenPorch      1460 non-null int64\n",
      "PoolArea         1460 non-null int64\n",
      "PoolQC           7 non-null object\n",
      "Fence            281 non-null object\n",
      "MiscFeature      54 non-null object\n",
      "MiscVal          1460 non-null int64\n",
      "MoSold           1460 non-null int64\n",
      "YrSold           1460 non-null int64\n",
      "SaleType         1460 non-null object\n",
      "SaleCondition    1460 non-null object\n",
      "SalePrice        1460 non-null int64\n",
      "dtypes: float64(3), int64(35), object(43)\n",
      "memory usage: 924.0+ KB\n"
     ]
    }
   ],
   "source": [
    "#Lets have a look at the data\n",
    "train.info() "
   ]
  },
  {
   "cell_type": "markdown",
   "metadata": {
    "_uuid": "ba8e8ee9189670a9d7769dfc72fb04dc2ee492b4"
   },
   "source": [
    "DROP COLUMNS - If they have too few data points to be useful\n",
    "\n",
    "Some of the features have too few data points to be able to meaningfully predict from"
   ]
  },
  {
   "cell_type": "code",
   "execution_count": 6,
   "metadata": {
    "_uuid": "4776541e825a4b84a3761fa3e19bd6a17f034399"
   },
   "outputs": [
    {
     "name": "stdout",
     "output_type": "stream",
     "text": [
      "<class 'pandas.core.frame.DataFrame'>\n",
      "RangeIndex: 1460 entries, 0 to 1459\n",
      "Data columns (total 77 columns):\n",
      "Id               1460 non-null int64\n",
      "MSSubClass       1460 non-null int64\n",
      "MSZoning         1460 non-null object\n",
      "LotFrontage      1201 non-null float64\n",
      "LotArea          1460 non-null int64\n",
      "Street           1460 non-null object\n",
      "LotShape         1460 non-null object\n",
      "LandContour      1460 non-null object\n",
      "Utilities        1460 non-null object\n",
      "LotConfig        1460 non-null object\n",
      "LandSlope        1460 non-null object\n",
      "Neighborhood     1460 non-null object\n",
      "Condition1       1460 non-null object\n",
      "Condition2       1460 non-null object\n",
      "BldgType         1460 non-null object\n",
      "HouseStyle       1460 non-null object\n",
      "OverallQual      1460 non-null int64\n",
      "OverallCond      1460 non-null int64\n",
      "YearBuilt        1460 non-null int64\n",
      "YearRemodAdd     1460 non-null int64\n",
      "RoofStyle        1460 non-null object\n",
      "RoofMatl         1460 non-null object\n",
      "Exterior1st      1460 non-null object\n",
      "Exterior2nd      1460 non-null object\n",
      "MasVnrType       1452 non-null object\n",
      "MasVnrArea       1452 non-null float64\n",
      "ExterQual        1460 non-null object\n",
      "ExterCond        1460 non-null object\n",
      "Foundation       1460 non-null object\n",
      "BsmtQual         1423 non-null object\n",
      "BsmtCond         1423 non-null object\n",
      "BsmtExposure     1422 non-null object\n",
      "BsmtFinType1     1423 non-null object\n",
      "BsmtFinSF1       1460 non-null int64\n",
      "BsmtFinType2     1422 non-null object\n",
      "BsmtFinSF2       1460 non-null int64\n",
      "BsmtUnfSF        1460 non-null int64\n",
      "TotalBsmtSF      1460 non-null int64\n",
      "Heating          1460 non-null object\n",
      "HeatingQC        1460 non-null object\n",
      "CentralAir       1460 non-null object\n",
      "Electrical       1459 non-null object\n",
      "1stFlrSF         1460 non-null int64\n",
      "2ndFlrSF         1460 non-null int64\n",
      "LowQualFinSF     1460 non-null int64\n",
      "GrLivArea        1460 non-null int64\n",
      "BsmtFullBath     1460 non-null int64\n",
      "BsmtHalfBath     1460 non-null int64\n",
      "FullBath         1460 non-null int64\n",
      "HalfBath         1460 non-null int64\n",
      "BedroomAbvGr     1460 non-null int64\n",
      "KitchenAbvGr     1460 non-null int64\n",
      "KitchenQual      1460 non-null object\n",
      "TotRmsAbvGrd     1460 non-null int64\n",
      "Functional       1460 non-null object\n",
      "Fireplaces       1460 non-null int64\n",
      "FireplaceQu      770 non-null object\n",
      "GarageType       1379 non-null object\n",
      "GarageYrBlt      1379 non-null float64\n",
      "GarageFinish     1379 non-null object\n",
      "GarageCars       1460 non-null int64\n",
      "GarageArea       1460 non-null int64\n",
      "GarageQual       1379 non-null object\n",
      "GarageCond       1379 non-null object\n",
      "PavedDrive       1460 non-null object\n",
      "WoodDeckSF       1460 non-null int64\n",
      "OpenPorchSF      1460 non-null int64\n",
      "EnclosedPorch    1460 non-null int64\n",
      "3SsnPorch        1460 non-null int64\n",
      "ScreenPorch      1460 non-null int64\n",
      "PoolArea         1460 non-null int64\n",
      "MiscVal          1460 non-null int64\n",
      "MoSold           1460 non-null int64\n",
      "YrSold           1460 non-null int64\n",
      "SaleType         1460 non-null object\n",
      "SaleCondition    1460 non-null object\n",
      "SalePrice        1460 non-null int64\n",
      "dtypes: float64(3), int64(35), object(39)\n",
      "memory usage: 878.4+ KB\n"
     ]
    }
   ],
   "source": [
    "def drop_cols(dataframe, a_list):\n",
    "    dataframe.drop(a_list, axis=1,inplace = True)\n",
    "drop1 =  ['Fence','PoolQC','MiscFeature','Alley'] #too few observations\n",
    "\n",
    "\n",
    "drop_cols(train,drop1)\n",
    "drop_cols(test,drop1)\n",
    "train.info()"
   ]
  },
  {
   "cell_type": "markdown",
   "metadata": {
    "_uuid": "cae97372b3f54714dc20e99bc342099efe8ac16b"
   },
   "source": [
    "CREATE NUMERICAL AND CATEGORICAL LABELS"
   ]
  },
  {
   "cell_type": "code",
   "execution_count": 7,
   "metadata": {
    "_uuid": "0f8c8e368d2419b2ab0a5169a481b91cdf3b538b"
   },
   "outputs": [],
   "source": [
    "columns = ['DataType']\n",
    "column_data = pd.DataFrame(index = train.columns, columns = columns)"
   ]
  },
  {
   "cell_type": "code",
   "execution_count": 8,
   "metadata": {
    "_uuid": "2dc67fab1c5b842421b33b50df123ddd30b6a919"
   },
   "outputs": [],
   "source": [
    "corr = train.corr()\n",
    "corr_index = corr.index"
   ]
  },
  {
   "cell_type": "code",
   "execution_count": 9,
   "metadata": {
    "_uuid": "9720095eb6c7123fc9e3ccd361a6b2ac47f47557"
   },
   "outputs": [],
   "source": [
    "for item in corr_index:\n",
    "    column_data.loc[item, 'DataType'] = 'Numeric'\n",
    "\n",
    "for item in column_data.index:\n",
    "    if column_data.loc[item, 'DataType'] != 'Numeric':\n",
    "        column_data.loc[item, 'DataType'] = 'Categorical'\n",
    "        "
   ]
  },
  {
   "cell_type": "markdown",
   "metadata": {
    "_uuid": "fa31c93ad2ddfecba8f0c9371ada1e1b5d56b57e"
   },
   "source": [
    "HAVE A LOOK AT CATEGORICAL COLUMNS - If nearly all the data is in on one category, we'll drop that feature because it may skew the results"
   ]
  },
  {
   "cell_type": "code",
   "execution_count": 10,
   "metadata": {
    "_uuid": "3095859e439fd572747cf727ff5c84a9c44f48b2"
   },
   "outputs": [
    {
     "name": "stdout",
     "output_type": "stream",
     "text": [
      "MSZoning\n"
     ]
    },
    {
     "ename": "NameError",
     "evalue": "name 'keep_columns' is not defined",
     "output_type": "error",
     "traceback": [
      "\u001b[0;31m---------------------------------------------------------------------------\u001b[0m",
      "\u001b[0;31mNameError\u001b[0m                                 Traceback (most recent call last)",
      "\u001b[0;32m<ipython-input-10-80cdb014581b>\u001b[0m in \u001b[0;36m<module>\u001b[0;34m()\u001b[0m\n\u001b[1;32m      8\u001b[0m \u001b[0;32mfor\u001b[0m \u001b[0mcolumn\u001b[0m \u001b[0;32min\u001b[0m \u001b[0mcategorical_features\u001b[0m\u001b[0;34m.\u001b[0m\u001b[0mcolumns\u001b[0m\u001b[0;34m:\u001b[0m\u001b[0;34m\u001b[0m\u001b[0m\n\u001b[1;32m      9\u001b[0m     \u001b[0mprint\u001b[0m\u001b[0;34m(\u001b[0m\u001b[0mcolumn\u001b[0m\u001b[0;34m)\u001b[0m\u001b[0;34m\u001b[0m\u001b[0m\n\u001b[0;32m---> 10\u001b[0;31m     \u001b[0mprint\u001b[0m\u001b[0;34m(\u001b[0m\u001b[0mkeep_columns\u001b[0m\u001b[0;34m[\u001b[0m\u001b[0mcolumn\u001b[0m\u001b[0;34m]\u001b[0m\u001b[0;34m.\u001b[0m\u001b[0mvalue_counts\u001b[0m\u001b[0;34m(\u001b[0m\u001b[0;34m)\u001b[0m\u001b[0;34m)\u001b[0m\u001b[0;34m\u001b[0m\u001b[0m\n\u001b[0m",
      "\u001b[0;31mNameError\u001b[0m: name 'keep_columns' is not defined"
     ]
    }
   ],
   "source": [
    "categorical = column_data[column_data['DataType'] == 'Categorical']\n",
    "categorical_features = pd.DataFrame()\n",
    "for column in train.columns:\n",
    "    if column in categorical.index:\n",
    "        categorical_features[column] = train[column]\n",
    "categorical_features.columns\n",
    "# look at the value counts\n",
    "for column in categorical_features.columns:\n",
    "    print(column)\n",
    "    print(keep_columns[column].value_counts())"
   ]
  },
  {
   "cell_type": "code",
   "execution_count": 11,
   "metadata": {
    "_uuid": "be73d2d6b6f8f86e9768ba229d0be32e4c22352d"
   },
   "outputs": [],
   "source": [
    "#The list below contains categories with little variety so we will drop them from the analysis\n",
    "drop2 =  ['Street', 'Utilities', 'Condition2','RoofMatl', 'Heating'] \n",
    "drop_cols(train, drop2)\n",
    "drop_cols(test, drop2)"
   ]
  },
  {
   "cell_type": "markdown",
   "metadata": {
    "_uuid": "00122d7024cc8550fe77d354ff68fbb90157608e"
   },
   "source": [
    "Now we've removed some of the bad columns from our \"train\" dataframe, and lets move on to the target\n",
    "\n",
    "TARGET ->SALE PRICE"
   ]
  },
  {
   "cell_type": "code",
   "execution_count": 12,
   "metadata": {
    "_uuid": "f78843a8ad251b4cd4141ef526b4d7cdd7d78b0b"
   },
   "outputs": [
    {
     "data": {
      "text/plain": [
       "KitchenAbvGr    -0.135907\n",
       "EnclosedPorch   -0.128578\n",
       "MSSubClass      -0.084284\n",
       "OverallCond     -0.077856\n",
       "YrSold          -0.028923\n",
       "LowQualFinSF    -0.025606\n",
       "Id              -0.021917\n",
       "MiscVal         -0.021190\n",
       "BsmtHalfBath    -0.016844\n",
       "BsmtFinSF2      -0.011378\n",
       "3SsnPorch        0.044584\n",
       "MoSold           0.046432\n",
       "PoolArea         0.092404\n",
       "ScreenPorch      0.111447\n",
       "BedroomAbvGr     0.168213\n",
       "BsmtUnfSF        0.214479\n",
       "BsmtFullBath     0.227122\n",
       "LotArea          0.263843\n",
       "HalfBath         0.284108\n",
       "OpenPorchSF      0.315856\n",
       "2ndFlrSF         0.319334\n",
       "WoodDeckSF       0.324413\n",
       "LotFrontage      0.351799\n",
       "BsmtFinSF1       0.386420\n",
       "Fireplaces       0.466929\n",
       "MasVnrArea       0.477493\n",
       "GarageYrBlt      0.486362\n",
       "YearRemodAdd     0.507101\n",
       "YearBuilt        0.522897\n",
       "TotRmsAbvGrd     0.533723\n",
       "FullBath         0.560664\n",
       "1stFlrSF         0.605852\n",
       "TotalBsmtSF      0.613581\n",
       "GarageArea       0.623431\n",
       "GarageCars       0.640409\n",
       "GrLivArea        0.708624\n",
       "OverallQual      0.790982\n",
       "SalePrice        1.000000\n",
       "dtype: float64"
      ]
     },
     "execution_count": 12,
     "metadata": {},
     "output_type": "execute_result"
    }
   ],
   "source": [
    "target = train['SalePrice']\n",
    "train.corrwith(target).sort_values() #Quality and Area are the most highly correlated with Price"
   ]
  },
  {
   "cell_type": "code",
   "execution_count": 13,
   "metadata": {
    "_uuid": "9dca26f06c84011ba9deaf86ff1717acee455605"
   },
   "outputs": [
    {
     "name": "stderr",
     "output_type": "stream",
     "text": [
      "/opt/conda/lib/python3.6/site-packages/scipy/stats/stats.py:1713: FutureWarning: Using a non-tuple sequence for multidimensional indexing is deprecated; use `arr[tuple(seq)]` instead of `arr[seq]`. In the future this will be interpreted as an array index, `arr[np.array(seq)]`, which will result either in an error or a different result.\n",
      "  return np.add.reduce(sorted[indexer] * weights, axis=axis) / sumval\n"
     ]
    },
    {
     "data": {
      "text/plain": [
       "<matplotlib.axes._subplots.AxesSubplot at 0x7f3cd52d56a0>"
      ]
     },
     "execution_count": 13,
     "metadata": {},
     "output_type": "execute_result"
    },
    {
     "data": {
      "image/png": "[encoded data removed]",
      "text/plain": [
       "<Figure size 432x288 with 1 Axes>"
      ]
     },
     "metadata": {},
     "output_type": "display_data"
    }
   ],
   "source": [
    "sns.distplot(target,bins=50)"
   ]
  },
  {
   "cell_type": "markdown",
   "metadata": {
    "_uuid": "6c3c3b18c55f289a823a6d909b2be6125aa28a44"
   },
   "source": [
    "The distplot shows us that there is a long tail on the expensive end, but the data ends around zero, as we'd expect\n",
    "Let's have a look at plots of some of the highly correlated features"
   ]
  },
  {
   "cell_type": "code",
   "execution_count": 14,
   "metadata": {
    "_uuid": "abb20985b753773f9e9a75fd491579245fb5bc3c"
   },
   "outputs": [
    {
     "name": "stderr",
     "output_type": "stream",
     "text": [
      "/opt/conda/lib/python3.6/site-packages/scipy/stats/stats.py:1713: FutureWarning: Using a non-tuple sequence for multidimensional indexing is deprecated; use `arr[tuple(seq)]` instead of `arr[seq]`. In the future this will be interpreted as an array index, `arr[np.array(seq)]`, which will result either in an error or a different result.\n",
      "  return np.add.reduce(sorted[indexer] * weights, axis=axis) / sumval\n"
     ]
    },
    {
     "data": {
      "text/plain": [
       "<matplotlib.axes._subplots.AxesSubplot at 0x7f3cd18947b8>"
      ]
     },
     "execution_count": 14,
     "metadata": {},
     "output_type": "execute_result"
    },
    {
     "data": {
      "image/png": "[encoded data removed]",
      "text/plain": [
       "<Figure size 1080x864 with 4 Axes>"
      ]
     },
     "metadata": {},
     "output_type": "display_data"
    }
   ],
   "source": [
    "fig, axes = plt.subplots(2, 2, figsize=(15,12))\n",
    "\n",
    "sns.regplot(x='GrLivArea',y='SalePrice',data=train, ax=axes[0,0])\n",
    "sns.violinplot(x='OverallQual',y='SalePrice',data=train, ax=axes[1,0])\n",
    "sns.violinplot(x='GarageCars',y='SalePrice',data=train, ax=axes[0,1])\n",
    "sns.regplot(x='GarageArea',y='SalePrice',data=train, ax=axes[1,1])\n",
    "\n",
    "\n",
    "#sns.scatterplot(x=train['GrLivArea'],y=target)"
   ]
  },
  {
   "cell_type": "markdown",
   "metadata": {
    "_uuid": "7f40a999d3c289eb7e986d3f8edffc6ac51c509f"
   },
   "source": [
    "PLOTS OF CATEGORICAL FEATURES"
   ]
  },
  {
   "cell_type": "code",
   "execution_count": 15,
   "metadata": {
    "_uuid": "685e0803ff6f99879fe10f33bd88ef94a2ab98a1"
   },
   "outputs": [
    {
     "name": "stderr",
     "output_type": "stream",
     "text": [
      "/opt/conda/lib/python3.6/site-packages/scipy/stats/stats.py:1713: FutureWarning: Using a non-tuple sequence for multidimensional indexing is deprecated; use `arr[tuple(seq)]` instead of `arr[seq]`. In the future this will be interpreted as an array index, `arr[np.array(seq)]`, which will result either in an error or a different result.\n",
      "  return np.add.reduce(sorted[indexer] * weights, axis=axis) / sumval\n"
     ]
    },
    {
     "data": {
      "text/plain": [
       "<matplotlib.axes._subplots.AxesSubplot at 0x7f3cc7ac9b70>"
      ]
     },
     "execution_count": 15,
     "metadata": {},
     "output_type": "execute_result"
    },
    {
     "data": {
      "image/png": "[encoded data removed]",
      "text/plain": [
       "<Figure size 1080x864 with 4 Axes>"
      ]
     },
     "metadata": {},
     "output_type": "display_data"
    }
   ],
   "source": [
    "fig, axes = plt.subplots(2, 2, figsize=(15,12))\n",
    "\n",
    "sns.violinplot(x='MSZoning',y='SalePrice',data=train, ax=axes[0,0])\n",
    "sns.violinplot(x='BldgType',y='SalePrice',data=train, ax=axes[1,0])\n",
    "sns.violinplot(x='HouseStyle',y='SalePrice',data=train, ax=axes[0,1])\n",
    "sns.violinplot(x='KitchenQual',y='SalePrice',data=train, ax=axes[1,1])"
   ]
  },
  {
   "cell_type": "code",
   "execution_count": 16,
   "metadata": {
    "_uuid": "9eb2398790c6518b5e4ae61a94d6f8b5217aed3a"
   },
   "outputs": [
    {
     "data": {
      "text/plain": [
       "<matplotlib.axes._axes.Axes at 0x7f3cc7b589e8>"
      ]
     },
     "execution_count": 16,
     "metadata": {},
     "output_type": "execute_result"
    },
    {
     "data": {
      "image/png": "[encoded data removed]",
      "text/plain": [
       "<Figure size 864x864 with 1 Axes>"
      ]
     },
     "metadata": {},
     "output_type": "display_data"
    }
   ],
   "source": [
    "fig = plt.figure(figsize=(12,12))\n",
    "axes = fig.add_axes([0,0,1,1])\n",
    "sns.boxplot(x='Neighborhood',y='SalePrice',data=train)"
   ]
  },
  {
   "cell_type": "code",
   "execution_count": 17,
   "metadata": {
    "_uuid": "fd8fb6d3a6b5a4649a0aa0fe3ba3902920bf686d"
   },
   "outputs": [
    {
     "data": {
      "text/plain": [
       "<matplotlib.axes._subplots.AxesSubplot at 0x7f3cc5c8cb38>"
      ]
     },
     "execution_count": 17,
     "metadata": {},
     "output_type": "execute_result"
    },
    {
     "data": {
      "image/png": "[encoded data removed]",
      "text/plain": [
       "<Figure size 432x288 with 1 Axes>"
      ]
     },
     "metadata": {},
     "output_type": "display_data"
    }
   ],
   "source": [
    "sns.boxplot(x='MSSubClass',y='SalePrice',data=train)"
   ]
  },
  {
   "cell_type": "markdown",
   "metadata": {
    "_uuid": "78f7d5bccee5c82a165110da81d7b1505a176194"
   },
   "source": [
    "First we'll do an analysis of the numeric and categorical features seperately to see how they perform against both types of features combined. We'll make a dataframe for the numeric features and the categorical features to explore each independently"
   ]
  },
  {
   "cell_type": "code",
   "execution_count": 18,
   "metadata": {
    "_uuid": "a99570741e29f24a88fbab93ef4f003f9b7bbf01"
   },
   "outputs": [
    {
     "data": {
      "text/plain": [
       "Id                   Numeric\n",
       "MSSubClass           Numeric\n",
       "MSZoning         Categorical\n",
       "LotFrontage          Numeric\n",
       "LotArea              Numeric\n",
       "Street           Categorical\n",
       "LotShape         Categorical\n",
       "LandContour      Categorical\n",
       "Utilities        Categorical\n",
       "LotConfig        Categorical\n",
       "LandSlope        Categorical\n",
       "Neighborhood     Categorical\n",
       "Condition1       Categorical\n",
       "Condition2       Categorical\n",
       "BldgType         Categorical\n",
       "HouseStyle       Categorical\n",
       "OverallQual          Numeric\n",
       "OverallCond          Numeric\n",
       "YearBuilt            Numeric\n",
       "YearRemodAdd         Numeric\n",
       "RoofStyle        Categorical\n",
       "RoofMatl         Categorical\n",
       "Exterior1st      Categorical\n",
       "Exterior2nd      Categorical\n",
       "MasVnrType       Categorical\n",
       "MasVnrArea           Numeric\n",
       "ExterQual        Categorical\n",
       "ExterCond        Categorical\n",
       "Foundation       Categorical\n",
       "BsmtQual         Categorical\n",
       "                    ...     \n",
       "BsmtHalfBath         Numeric\n",
       "FullBath             Numeric\n",
       "HalfBath             Numeric\n",
       "BedroomAbvGr         Numeric\n",
       "KitchenAbvGr         Numeric\n",
       "KitchenQual      Categorical\n",
       "TotRmsAbvGrd         Numeric\n",
       "Functional       Categorical\n",
       "Fireplaces           Numeric\n",
       "FireplaceQu      Categorical\n",
       "GarageType       Categorical\n",
       "GarageYrBlt          Numeric\n",
       "GarageFinish     Categorical\n",
       "GarageCars           Numeric\n",
       "GarageArea           Numeric\n",
       "GarageQual       Categorical\n",
       "GarageCond       Categorical\n",
       "PavedDrive       Categorical\n",
       "WoodDeckSF           Numeric\n",
       "OpenPorchSF          Numeric\n",
       "EnclosedPorch        Numeric\n",
       "3SsnPorch            Numeric\n",
       "ScreenPorch          Numeric\n",
       "PoolArea             Numeric\n",
       "MiscVal              Numeric\n",
       "MoSold               Numeric\n",
       "YrSold               Numeric\n",
       "SaleType         Categorical\n",
       "SaleCondition    Categorical\n",
       "SalePrice            Numeric\n",
       "Name: DataType, Length: 77, dtype: object"
      ]
     },
     "execution_count": 18,
     "metadata": {},
     "output_type": "execute_result"
    }
   ],
   "source": [
    "column_data['DataType']"
   ]
  },
  {
   "cell_type": "code",
   "execution_count": 19,
   "metadata": {
    "_uuid": "3c42ea6813b3e03b24788d9ef4c3d1ff3e7cd28c"
   },
   "outputs": [
    {
     "name": "stdout",
     "output_type": "stream",
     "text": [
      "Index(['Id', 'MSSubClass', 'LotFrontage', 'LotArea', 'OverallQual',\n",
      "       'OverallCond', 'YearBuilt', 'YearRemodAdd', 'MasVnrArea', 'BsmtFinSF1',\n",
      "       'BsmtFinSF2', 'BsmtUnfSF', 'TotalBsmtSF', '1stFlrSF', '2ndFlrSF',\n",
      "       'LowQualFinSF', 'GrLivArea', 'BsmtFullBath', 'BsmtHalfBath', 'FullBath',\n",
      "       'HalfBath', 'BedroomAbvGr', 'KitchenAbvGr', 'TotRmsAbvGrd',\n",
      "       'Fireplaces', 'GarageYrBlt', 'GarageCars', 'GarageArea', 'WoodDeckSF',\n",
      "       'OpenPorchSF', 'EnclosedPorch', '3SsnPorch', 'ScreenPorch', 'PoolArea',\n",
      "       'MiscVal', 'MoSold', 'YrSold'],\n",
      "      dtype='object')\n",
      "Index(['MSZoning', 'LotShape', 'LandContour', 'LotConfig', 'LandSlope',\n",
      "       'Neighborhood', 'Condition1', 'BldgType', 'HouseStyle', 'RoofStyle',\n",
      "       'Exterior1st', 'Exterior2nd', 'MasVnrType', 'ExterQual', 'ExterCond',\n",
      "       'Foundation', 'BsmtQual', 'BsmtCond', 'BsmtExposure', 'BsmtFinType1',\n",
      "       'BsmtFinType2', 'HeatingQC', 'CentralAir', 'Electrical', 'KitchenQual',\n",
      "       'Functional', 'FireplaceQu', 'GarageType', 'GarageFinish', 'GarageQual',\n",
      "       'GarageCond', 'PavedDrive', 'SaleType', 'SaleCondition'],\n",
      "      dtype='object')\n",
      "37\n",
      "37\n",
      "34\n",
      "34\n"
     ]
    }
   ],
   "source": [
    "numeric_features = pd.DataFrame()\n",
    "categorical_features = pd.DataFrame()\n",
    "test_numeric_features = pd.DataFrame()\n",
    "test_categorical_features = pd.DataFrame()\n",
    "\n",
    "for item in test.columns:\n",
    "    dt = column_data.loc[item,'DataType']\n",
    "    if dt == 'Numeric':\n",
    "        numeric_features[item] = train[item]\n",
    "        test_numeric_features[item] = test[item]\n",
    "    elif dt == 'Categorical':\n",
    "        categorical_features[item] = train[item]\n",
    "        test_categorical_features[item] = test[item]\n",
    "print(numeric_features.columns)\n",
    "print(categorical_features.columns)\n",
    "print(len(numeric_features.columns))\n",
    "print(len(test_numeric_features.columns))\n",
    "print(len(categorical_features.columns))\n",
    "print(len(test_categorical_features.columns))"
   ]
  },
  {
   "cell_type": "markdown",
   "metadata": {
    "_uuid": "ccbcbea8fca140141ec9efc301fbdf817b209c44"
   },
   "source": [
    "We can see that the numeric features dataframe has some columns that should either be categorical or are not useful for analysis. Let's go ahead and drop those from the numeric features dataframe"
   ]
  },
  {
   "cell_type": "code",
   "execution_count": 20,
   "metadata": {
    "_uuid": "304ccfb17ac63a024ab262a6fee6dee52ea0346e"
   },
   "outputs": [],
   "source": [
    "\n",
    "numeric_features.drop(['Id','EnclosedPorch','3SsnPorch','MiscVal','MSSubClass','MoSold'],axis=1, inplace=True)\n",
    "test_numeric_features.drop(['Id','EnclosedPorch','3SsnPorch','MiscVal','MSSubClass','MoSold'],axis=1, inplace=True)\n",
    "numeric_features.columns\n",
    "\n",
    "#MSSubClass is categorical so we'll add that to the categorical dataframe\n",
    "#MoSold could also be categorical but we'll ignore it for this analysis because if we are\n",
    "#trying to predict the value of a future sale we won't know what month it will be sold in\n",
    "\n",
    "categorical_features['MSSubClass'] = train['MSSubClass']\n",
    "test_categorical_features['MSSubClass'] = test['MSSubClass']"
   ]
  },
  {
   "cell_type": "code",
   "execution_count": 21,
   "metadata": {
    "_uuid": "2244859d842a1ff7615a141aac10f964606ccf76"
   },
   "outputs": [
    {
     "name": "stdout",
     "output_type": "stream",
     "text": [
      "<class 'pandas.core.frame.DataFrame'>\n",
      "RangeIndex: 1460 entries, 0 to 1459\n",
      "Data columns (total 31 columns):\n",
      "LotFrontage     1201 non-null float64\n",
      "LotArea         1460 non-null int64\n",
      "OverallQual     1460 non-null int64\n",
      "OverallCond     1460 non-null int64\n",
      "YearBuilt       1460 non-null int64\n",
      "YearRemodAdd    1460 non-null int64\n",
      "MasVnrArea      1452 non-null float64\n",
      "BsmtFinSF1      1460 non-null int64\n",
      "BsmtFinSF2      1460 non-null int64\n",
      "BsmtUnfSF       1460 non-null int64\n",
      "TotalBsmtSF     1460 non-null int64\n",
      "1stFlrSF        1460 non-null int64\n",
      "2ndFlrSF        1460 non-null int64\n",
      "LowQualFinSF    1460 non-null int64\n",
      "GrLivArea       1460 non-null int64\n",
      "BsmtFullBath    1460 non-null int64\n",
      "BsmtHalfBath    1460 non-null int64\n",
      "FullBath        1460 non-null int64\n",
      "HalfBath        1460 non-null int64\n",
      "BedroomAbvGr    1460 non-null int64\n",
      "KitchenAbvGr    1460 non-null int64\n",
      "TotRmsAbvGrd    1460 non-null int64\n",
      "Fireplaces      1460 non-null int64\n",
      "GarageYrBlt     1379 non-null float64\n",
      "GarageCars      1460 non-null int64\n",
      "GarageArea      1460 non-null int64\n",
      "WoodDeckSF      1460 non-null int64\n",
      "OpenPorchSF     1460 non-null int64\n",
      "ScreenPorch     1460 non-null int64\n",
      "PoolArea        1460 non-null int64\n",
      "YrSold          1460 non-null int64\n",
      "dtypes: float64(3), int64(28)\n",
      "memory usage: 353.7 KB\n"
     ]
    }
   ],
   "source": [
    "numeric_features.info()\n",
    "#We see some null values, we will impute those values to remove all Nulls"
   ]
  },
  {
   "cell_type": "markdown",
   "metadata": {
    "_uuid": "900258655b0d65794f6d54664ff34d7382084330"
   },
   "source": [
    "FILL IN NULL VALUES"
   ]
  },
  {
   "cell_type": "code",
   "execution_count": 22,
   "metadata": {
    "_uuid": "0cfa16cd82b1a7baca6bce7e875d0240ef813bf8"
   },
   "outputs": [],
   "source": [
    "#LotFrontage,MasVnrArea,GarageYrBlt\n",
    "#Fill Null Lot Frontage\n",
    "#Fill lot frontage based on the lot area times the average factor between area and frontage\n",
    "factor_col = numeric_features['LotArea'] / numeric_features['LotFrontage']\n",
    "factor = factor_col.mean()\n"
   ]
  },
  {
   "cell_type": "code",
   "execution_count": 23,
   "metadata": {
    "_uuid": "de8bb3c94bb59511a910f1331b6ebd4aec06fe55"
   },
   "outputs": [],
   "source": [
    "\n",
    "for row in numeric_features.index:\n",
    "    area = numeric_features.loc[row,'LotArea']\n",
    "    frontage = numeric_features.loc[row,'LotFrontage']\n",
    "    if pd.isnull(frontage):\n",
    "        numeric_features.loc[row,'LotFrontage'] = area / factor"
   ]
  },
  {
   "cell_type": "code",
   "execution_count": 24,
   "metadata": {
    "_uuid": "58b95504bc9be36cdc3975a9c85a5c14148fd578"
   },
   "outputs": [],
   "source": [
    "#fill MasVnr with the mean from the dataset\n",
    "mean_MasVnr = numeric_features['MasVnrArea'].mean()\n",
    "for row in numeric_features.index:\n",
    "    vnr = numeric_features.loc[row,'MasVnrArea']\n",
    "    if pd.isnull(vnr):\n",
    "        numeric_features.loc[row,'MasVnrArea']= mean_MasVnr"
   ]
  },
  {
   "cell_type": "code",
   "execution_count": 25,
   "metadata": {
    "_uuid": "dd77868b83204076f7439e00be02b212084f24a0"
   },
   "outputs": [],
   "source": [
    "#fill Garage Year Built with same as the year the house was built, if null\n",
    "for row in numeric_features.index:\n",
    "    if pd.isnull(numeric_features.loc[row,'GarageYrBlt']):\n",
    "        numeric_features.loc[row,'GarageYrBlt'] =  numeric_features.loc[row,'YearBuilt']"
   ]
  },
  {
   "cell_type": "markdown",
   "metadata": {
    "_uuid": "417e7ab0f05bac7f7579fa7c0b3354b2f75bd23a"
   },
   "source": [
    "We should now have no NULL values in the dataset"
   ]
  },
  {
   "cell_type": "code",
   "execution_count": 26,
   "metadata": {
    "_uuid": "4a028459d1207a88920859c06acfdadc428f37c8"
   },
   "outputs": [
    {
     "name": "stdout",
     "output_type": "stream",
     "text": [
      "<class 'pandas.core.frame.DataFrame'>\n",
      "RangeIndex: 1460 entries, 0 to 1459\n",
      "Data columns (total 31 columns):\n",
      "LotFrontage     1460 non-null float64\n",
      "LotArea         1460 non-null int64\n",
      "OverallQual     1460 non-null int64\n",
      "OverallCond     1460 non-null int64\n",
      "YearBuilt       1460 non-null int64\n",
      "YearRemodAdd    1460 non-null int64\n",
      "MasVnrArea      1460 non-null float64\n",
      "BsmtFinSF1      1460 non-null int64\n",
      "BsmtFinSF2      1460 non-null int64\n",
      "BsmtUnfSF       1460 non-null int64\n",
      "TotalBsmtSF     1460 non-null int64\n",
      "1stFlrSF        1460 non-null int64\n",
      "2ndFlrSF        1460 non-null int64\n",
      "LowQualFinSF    1460 non-null int64\n",
      "GrLivArea       1460 non-null int64\n",
      "BsmtFullBath    1460 non-null int64\n",
      "BsmtHalfBath    1460 non-null int64\n",
      "FullBath        1460 non-null int64\n",
      "HalfBath        1460 non-null int64\n",
      "BedroomAbvGr    1460 non-null int64\n",
      "KitchenAbvGr    1460 non-null int64\n",
      "TotRmsAbvGrd    1460 non-null int64\n",
      "Fireplaces      1460 non-null int64\n",
      "GarageYrBlt     1460 non-null float64\n",
      "GarageCars      1460 non-null int64\n",
      "GarageArea      1460 non-null int64\n",
      "WoodDeckSF      1460 non-null int64\n",
      "OpenPorchSF     1460 non-null int64\n",
      "ScreenPorch     1460 non-null int64\n",
      "PoolArea        1460 non-null int64\n",
      "YrSold          1460 non-null int64\n",
      "dtypes: float64(3), int64(28)\n",
      "memory usage: 353.7 KB\n"
     ]
    }
   ],
   "source": [
    "numeric_features.info()"
   ]
  },
  {
   "cell_type": "markdown",
   "metadata": {
    "_uuid": "564bc2842552b23a751ba17d50323fcf5cabeb25"
   },
   "source": [
    "CLEAN THE CATEGORICAL FEATURES DATAFRAME"
   ]
  },
  {
   "cell_type": "code",
   "execution_count": 27,
   "metadata": {
    "_uuid": "5473dfe0e607a3a3fa75263366213801ae774d21"
   },
   "outputs": [
    {
     "name": "stdout",
     "output_type": "stream",
     "text": [
      "<class 'pandas.core.frame.DataFrame'>\n",
      "RangeIndex: 1460 entries, 0 to 1459\n",
      "Data columns (total 35 columns):\n",
      "MSZoning         1460 non-null object\n",
      "LotShape         1460 non-null object\n",
      "LandContour      1460 non-null object\n",
      "LotConfig        1460 non-null object\n",
      "LandSlope        1460 non-null object\n",
      "Neighborhood     1460 non-null object\n",
      "Condition1       1460 non-null object\n",
      "BldgType         1460 non-null object\n",
      "HouseStyle       1460 non-null object\n",
      "RoofStyle        1460 non-null object\n",
      "Exterior1st      1460 non-null object\n",
      "Exterior2nd      1460 non-null object\n",
      "MasVnrType       1452 non-null object\n",
      "ExterQual        1460 non-null object\n",
      "ExterCond        1460 non-null object\n",
      "Foundation       1460 non-null object\n",
      "BsmtQual         1423 non-null object\n",
      "BsmtCond         1423 non-null object\n",
      "BsmtExposure     1422 non-null object\n",
      "BsmtFinType1     1423 non-null object\n",
      "BsmtFinType2     1422 non-null object\n",
      "HeatingQC        1460 non-null object\n",
      "CentralAir       1460 non-null object\n",
      "Electrical       1459 non-null object\n",
      "KitchenQual      1460 non-null object\n",
      "Functional       1460 non-null object\n",
      "FireplaceQu      770 non-null object\n",
      "GarageType       1379 non-null object\n",
      "GarageFinish     1379 non-null object\n",
      "GarageQual       1379 non-null object\n",
      "GarageCond       1379 non-null object\n",
      "PavedDrive       1460 non-null object\n",
      "SaleType         1460 non-null object\n",
      "SaleCondition    1460 non-null object\n",
      "MSSubClass       1460 non-null int64\n",
      "dtypes: int64(1), object(34)\n",
      "memory usage: 399.3+ KB\n"
     ]
    }
   ],
   "source": [
    "categorical_features.info() #We need to do something to deal with the Null"
   ]
  },
  {
   "cell_type": "code",
   "execution_count": 28,
   "metadata": {
    "_uuid": "81a6ea06a3ea1e808ee43c323bc967a9dfa30fb1"
   },
   "outputs": [
    {
     "name": "stdout",
     "output_type": "stream",
     "text": [
      "<class 'pandas.core.frame.DataFrame'>\n",
      "RangeIndex: 1460 entries, 0 to 1459\n",
      "Data columns (total 35 columns):\n",
      "MSZoning         1460 non-null object\n",
      "LotShape         1460 non-null object\n",
      "LandContour      1460 non-null object\n",
      "LotConfig        1460 non-null object\n",
      "LandSlope        1460 non-null object\n",
      "Neighborhood     1460 non-null object\n",
      "Condition1       1460 non-null object\n",
      "BldgType         1460 non-null object\n",
      "HouseStyle       1460 non-null object\n",
      "RoofStyle        1460 non-null object\n",
      "Exterior1st      1460 non-null object\n",
      "Exterior2nd      1460 non-null object\n",
      "MasVnrType       1460 non-null object\n",
      "ExterQual        1460 non-null object\n",
      "ExterCond        1460 non-null object\n",
      "Foundation       1460 non-null object\n",
      "BsmtQual         1460 non-null object\n",
      "BsmtCond         1460 non-null object\n",
      "BsmtExposure     1460 non-null object\n",
      "BsmtFinType1     1460 non-null object\n",
      "BsmtFinType2     1460 non-null object\n",
      "HeatingQC        1460 non-null object\n",
      "CentralAir       1460 non-null object\n",
      "Electrical       1460 non-null object\n",
      "KitchenQual      1460 non-null object\n",
      "Functional       1460 non-null object\n",
      "FireplaceQu      1460 non-null object\n",
      "GarageType       1460 non-null object\n",
      "GarageFinish     1460 non-null object\n",
      "GarageQual       1460 non-null object\n",
      "GarageCond       1460 non-null object\n",
      "PavedDrive       1460 non-null object\n",
      "SaleType         1460 non-null object\n",
      "SaleCondition    1460 non-null object\n",
      "MSSubClass       1460 non-null int64\n",
      "dtypes: int64(1), object(34)\n",
      "memory usage: 399.3+ KB\n"
     ]
    }
   ],
   "source": [
    "#FireplaceQu we'll drop because it has so few rows and the rest we'll replace with None\n",
    "#categorical_feats.drop('FireplaceQu',axis=1, inplace=True)\n",
    "categorical_features.fillna('None',inplace=True)\n",
    "test_categorical_features.fillna('None',inplace=True)\n",
    "categorical_features.info()"
   ]
  },
  {
   "cell_type": "code",
   "execution_count": 29,
   "metadata": {
    "_uuid": "24cf5e742ee9f9daa9eb479f44abafaa39773687"
   },
   "outputs": [
    {
     "name": "stdout",
     "output_type": "stream",
     "text": [
      "225\n",
      "224\n"
     ]
    }
   ],
   "source": [
    "#We'll make a dummy variable dataframe with the categorical features\n",
    "categorical_dummies = pd.get_dummies(categorical_features)\n",
    "test_categorical_dummies = pd.get_dummies(test_categorical_features)\n",
    "print(len(categorical_dummies.columns))\n",
    "print(len(test_categorical_dummies.columns))"
   ]
  },
  {
   "cell_type": "code",
   "execution_count": 30,
   "metadata": {
    "_uuid": "0e98270834ea1dfb1864806028548f5a81fd13ea"
   },
   "outputs": [],
   "source": [
    "not_in_test = []\n",
    "for x in categorical_dummies.columns:\n",
    "    if x not in test_categorical_dummies.columns:\n",
    "        not_in_test.append(x)\n",
    "not_in_train = []\n",
    "for x in test_categorical_dummies.columns:\n",
    "    if x not in categorical_dummies.columns:\n",
    "        not_in_train.append(x)\n",
    "        \n",
    "for x in not_in_test:\n",
    "    test_categorical_dummies[x] = 0\n",
    "for x in not_in_train:\n",
    "    categorical_dummies[x] = 0"
   ]
  },
  {
   "cell_type": "code",
   "execution_count": 31,
   "metadata": {
    "_uuid": "cfab63d2fd1073d6c030dddd15b30e8b777fc437"
   },
   "outputs": [
    {
     "name": "stdout",
     "output_type": "stream",
     "text": [
      "231\n",
      "231\n"
     ]
    }
   ],
   "source": [
    "print(len(categorical_dummies.columns))\n",
    "print(len(test_categorical_dummies.columns))"
   ]
  },
  {
   "cell_type": "markdown",
   "metadata": {
    "_uuid": "44b8cc4d3d7d600680d61488d4219c07058ab03d"
   },
   "source": [
    "START OF LINEAR REGRESSION\n",
    "\n",
    "Let's look at the numerical features first"
   ]
  },
  {
   "cell_type": "code",
   "execution_count": 32,
   "metadata": {
    "_uuid": "ee7c68c69bf6e004498d2c0dbe0e798db23f7a28"
   },
   "outputs": [],
   "source": [
    "from sklearn import linear_model\n",
    "from sklearn.model_selection import train_test_split\n",
    "from sklearn.metrics import mean_squared_error, r2_score\n",
    "from sklearn.linear_model import Lasso, Ridge \n",
    "lin_mod = linear_model.LinearRegression()"
   ]
  },
  {
   "cell_type": "code",
   "execution_count": 33,
   "metadata": {
    "_uuid": "3be8c54924aa5235da29b732712528a74a02f6d2"
   },
   "outputs": [],
   "source": [
    "X = numeric_features\n",
    "y = target\n",
    "\n",
    "X_train, X_test, y_train, y_test = train_test_split(X,y,test_size=0.3,random_state = 17)"
   ]
  },
  {
   "cell_type": "code",
   "execution_count": 34,
   "metadata": {
    "_uuid": "411fe59b3428fb516729de575ac7b11c721ea934"
   },
   "outputs": [
    {
     "data": {
      "text/plain": [
       "LinearRegression(copy_X=True, fit_intercept=True, n_jobs=None,\n",
       "         normalize=False)"
      ]
     },
     "execution_count": 34,
     "metadata": {},
     "output_type": "execute_result"
    }
   ],
   "source": [
    "lin_mod.fit(X_train, y_train)"
   ]
  },
  {
   "cell_type": "code",
   "execution_count": 35,
   "metadata": {
    "_uuid": "ddf7b746b34e606679444c99b0368ea206ac9eef"
   },
   "outputs": [],
   "source": [
    "test_pred1 = lin_mod.predict(X_test)\n",
    "test_pred1[test_pred1<0] = 0.1 #Can't have negative value in RMSLE (or negative house price)\n",
    "train_pred1 = lin_mod.predict(X_train)\n",
    "train_pred1[train_pred1<0] = 0.1"
   ]
  },
  {
   "cell_type": "code",
   "execution_count": 36,
   "metadata": {
    "_uuid": "7c8875422c78bd33b3f1206de0f0b0d5d5e14d11"
   },
   "outputs": [
    {
     "data": {
      "text/plain": [
       "0.16804679983903198"
      ]
     },
     "execution_count": 36,
     "metadata": {},
     "output_type": "execute_result"
    }
   ],
   "source": [
    "def RMSLE(actual, predictions):\n",
    "    total = 0.0\n",
    "    for x in range(len(predictions)):\n",
    "        log_pred = np.log(predictions[x]+1)\n",
    "        log_actual = np.log(actual.iloc[x]+1)\n",
    "        total = total + (log_pred - log_actual)**2\n",
    "    rmsle = (total/len(predictions)) ** 0.5\n",
    "    return rmsle\n",
    "\n",
    "RMSLE(y_test, test_pred1)\n"
   ]
  },
  {
   "cell_type": "code",
   "execution_count": 37,
   "metadata": {
    "_uuid": "0a3c78a2b65c4db1101affe2a6294c83f48cee6e"
   },
   "outputs": [
    {
     "name": "stdout",
     "output_type": "stream",
     "text": [
      "0.5144142818985257\n"
     ]
    }
   ],
   "source": [
    "print(RMSLE(y_train,train_pred1))"
   ]
  },
  {
   "cell_type": "markdown",
   "metadata": {
    "_uuid": "ff65804f4a518c8f02bb039fed2e946def184aef"
   },
   "source": [
    "LETS MAKE A DATAFRAME TO TRACK THE RESULTS FOR DIFFERENT MODELS WE CREATE"
   ]
  },
  {
   "cell_type": "code",
   "execution_count": 38,
   "metadata": {
    "_uuid": "f97a8cd2c114f90b4791190dcd2d8b65a3e3dd06"
   },
   "outputs": [
    {
     "name": "stdout",
     "output_type": "stream",
     "text": [
      "Test R^2: 0.8445162624201987\n",
      "Train R^2: 0.7895181780169884\n",
      "Test RMSLE: 0.16804679983903198\n",
      "Train RMSLE: 0.5144142818985257\n"
     ]
    }
   ],
   "source": [
    "performance_df = pd.DataFrame(index = ['Num Feats','Cat Feats','All Feats'],columns = ['Test R^2','Train R^2','Test RMSLE', 'Train RMSLE'])\n",
    "testR2 = r2_score(y_test, test_pred1)\n",
    "trainR2 = r2_score(y_train, train_pred1)\n",
    "testRMSLE = RMSLE(y_test,test_pred1)\n",
    "trainRMSLE = RMSLE(y_train,train_pred1)\n",
    "print('Test R^2:' ,testR2)\n",
    "print('Train R^2:',trainR2)\n",
    "print('Test RMSLE:', testRMSLE)\n",
    "print('Train RMSLE:', trainRMSLE)\n",
    "performance_df.loc['Num Feats'] = [testR2,trainR2,testRMSLE,trainRMSLE]"
   ]
  },
  {
   "cell_type": "markdown",
   "metadata": {
    "_uuid": "1ed4bce382e6f8d18cb43bad39a2923823d8c590"
   },
   "source": [
    "LETS SEE IF THE CATEGORICAL FEATURES CAN DO ANY BETTER"
   ]
  },
  {
   "cell_type": "code",
   "execution_count": 39,
   "metadata": {
    "_uuid": "3bd2eafbade08edb161ba67fc87aeee838d2cd8a"
   },
   "outputs": [],
   "source": [
    "X = categorical_dummies\n",
    "y = target"
   ]
  },
  {
   "cell_type": "code",
   "execution_count": 40,
   "metadata": {
    "_uuid": "b06eed519a50196ec2be8605a643f6b2eee58e1f"
   },
   "outputs": [],
   "source": [
    "X_train, X_test, y_train, y_test = train_test_split(X,y,test_size=0.3,random_state=17)"
   ]
  },
  {
   "cell_type": "code",
   "execution_count": 41,
   "metadata": {
    "_uuid": "207dd0c060c013fe6f5efe1bbb74d54adc8028ea"
   },
   "outputs": [
    {
     "data": {
      "text/plain": [
       "Index(['MSSubClass', 'MSZoning_C (all)', 'MSZoning_FV', 'MSZoning_RH',\n",
       "       'MSZoning_RL', 'MSZoning_RM', 'LotShape_IR1', 'LotShape_IR2',\n",
       "       'LotShape_IR3', 'LotShape_Reg',\n",
       "       ...\n",
       "       'SaleCondition_Alloca', 'SaleCondition_Family', 'SaleCondition_Normal',\n",
       "       'SaleCondition_Partial', 'MSZoning_None', 'Exterior1st_None',\n",
       "       'Exterior2nd_None', 'KitchenQual_None', 'Functional_None',\n",
       "       'SaleType_None'],\n",
       "      dtype='object', length=231)"
      ]
     },
     "execution_count": 41,
     "metadata": {},
     "output_type": "execute_result"
    }
   ],
   "source": [
    "X_train.columns"
   ]
  },
  {
   "cell_type": "code",
   "execution_count": 42,
   "metadata": {
    "_uuid": "738371692b6667ab9024a2f0dbf8e05e7d02ffb2"
   },
   "outputs": [],
   "source": [
    "categorical_model = linear_model.LinearRegression()"
   ]
  },
  {
   "cell_type": "code",
   "execution_count": 43,
   "metadata": {
    "_uuid": "66adf0c3c6e9ba3060d725f8d38749acac4ff359"
   },
   "outputs": [
    {
     "data": {
      "text/plain": [
       "LinearRegression(copy_X=True, fit_intercept=True, n_jobs=None,\n",
       "         normalize=False)"
      ]
     },
     "execution_count": 43,
     "metadata": {},
     "output_type": "execute_result"
    }
   ],
   "source": [
    "categorical_model.fit(X_train,y_train)"
   ]
  },
  {
   "cell_type": "code",
   "execution_count": 44,
   "metadata": {
    "_uuid": "a51c04085b87b6ed1ea799f5beb7434b7f3f29ee"
   },
   "outputs": [],
   "source": [
    "test_pred2 = categorical_model.predict(X_test)\n",
    "test_pred2[test_pred2<0] = 0.1\n",
    "train_pred2 = categorical_model.predict(X_train)\n",
    "train_pred2[train_pred2<0] = 0.1"
   ]
  },
  {
   "cell_type": "code",
   "execution_count": 45,
   "metadata": {
    "_uuid": "96d7eed06dd7697405e496eb87f5f5e80c1a0d9b"
   },
   "outputs": [
    {
     "name": "stdout",
     "output_type": "stream",
     "text": [
      "Test R^2: 0.741717776261102\n",
      "Train R^2: 0.8347258281253676\n",
      "Test RMSLE: 1.2728739015196122\n",
      "Train RMSLE: 0.1572867523826862\n"
     ]
    }
   ],
   "source": [
    "testR2 = r2_score(y_test, test_pred2)\n",
    "trainR2 = r2_score(y_train, train_pred2)\n",
    "testRMSLE = RMSLE(y_test,test_pred2)\n",
    "trainRMSLE = RMSLE(y_train,train_pred2)\n",
    "print('Test R^2:' ,testR2)\n",
    "print('Train R^2:',trainR2)\n",
    "print('Test RMSLE:', testRMSLE)\n",
    "print('Train RMSLE:', trainRMSLE)\n",
    "performance_df.loc['Cat Feats'] = [testR2,trainR2,testRMSLE,trainRMSLE]"
   ]
  },
  {
   "cell_type": "markdown",
   "metadata": {
    "_uuid": "3db61667875eda846dbd324cc033a0335b874867"
   },
   "source": [
    "That's just plain terrible...."
   ]
  },
  {
   "cell_type": "code",
   "execution_count": 46,
   "metadata": {
    "_uuid": "40c2633ea5ff0c49765292596fed7b635c2ed32d"
   },
   "outputs": [
    {
     "data": {
      "text/plain": [
       "array([ 2.91345309e+01, -5.06191455e+13, -5.06191454e+13, -5.06191454e+13,\n",
       "       -5.06191454e+13, -5.06191454e+13,  4.62267684e+13,  4.62267684e+13,\n",
       "        4.62267684e+13,  4.62267684e+13,  2.75585537e+14,  2.75585537e+14,\n",
       "        2.75585537e+14,  2.75585537e+14,  2.36823711e+14,  2.36823711e+14,\n",
       "        2.36823711e+14,  2.36823711e+14,  2.36823711e+14,  5.94222575e+13,\n",
       "        5.94222575e+13,  5.94222575e+13,  3.27217612e+13,  3.27217612e+13,\n",
       "        3.27217612e+13,  3.27217612e+13,  3.27217612e+13,  3.27217612e+13,\n",
       "        3.27217612e+13,  3.27217612e+13,  3.27217612e+13,  3.27217612e+13,\n",
       "        3.27217612e+13,  3.27217612e+13,  3.27217612e+13,  3.27217613e+13,\n",
       "        3.27217612e+13,  3.27217613e+13,  3.27217613e+13,  3.27217612e+13,\n",
       "        3.27217612e+13,  3.27217612e+13,  3.27217612e+13,  3.27217612e+13,\n",
       "        3.27217613e+13,  3.27217612e+13,  3.27217613e+13, -3.32124395e+13,\n",
       "       -3.32124395e+13, -3.32124395e+13, -3.32124395e+13, -3.32124395e+13,\n",
       "       -3.32124395e+13, -3.32124395e+13, -3.32124395e+13, -3.32124395e+13,\n",
       "       -1.26998477e+14, -1.26998477e+14, -1.26998477e+14, -1.26998477e+14,\n",
       "       -1.26998477e+14,  2.49820999e+13,  2.49820999e+13,  2.49820999e+13,\n",
       "        2.49820999e+13,  2.49821000e+13,  2.49820999e+13,  2.49820999e+13,\n",
       "        2.49820999e+13,  5.13949946e+12,  5.13949943e+12,  5.13949944e+12,\n",
       "        5.13949944e+12,  5.13949948e+12,  5.13949942e+12, -3.17577854e+13,\n",
       "       -3.17577853e+13, -3.17577854e+13, -3.17577853e+13, -2.04393144e+13,\n",
       "       -3.17577854e+13, -3.17577854e+13, -3.17577854e+13, -3.17577853e+13,\n",
       "       -3.17577854e+13, -3.17577853e+13, -3.17577854e+13, -3.17577854e+13,\n",
       "       -3.17577854e+13, -3.17577854e+13,  2.37998948e+13,  2.37998948e+13,\n",
       "        2.37998948e+13,  2.37998948e+13,  1.24814238e+13,  2.37998948e+13,\n",
       "        2.37998948e+13,  2.37998948e+13,  2.37998948e+13,  2.37998948e+13,\n",
       "        2.37998948e+13,  2.37998948e+13,  2.37998948e+13,  2.37998948e+13,\n",
       "        2.37998948e+13,  2.37998948e+13,  1.62629434e+14,  1.62629434e+14,\n",
       "        1.62629434e+14,  1.62629434e+14, -2.03985908e+14, -2.03985908e+14,\n",
       "       -2.03985908e+14, -2.03985908e+14,  2.11040002e+13,  2.11040002e+13,\n",
       "        2.11040002e+13,  2.11040001e+13,  2.11040002e+13, -2.05243062e+14,\n",
       "       -2.05243062e+14, -2.05243062e+14, -2.05243062e+14, -2.05243062e+14,\n",
       "       -2.05243062e+14, -9.29361200e+13, -9.29361200e+13, -9.29361200e+13,\n",
       "       -1.50564742e+13, -9.29361200e+13,  4.15328438e+13,  4.15328438e+13,\n",
       "       -6.78600193e+12,  4.15328437e+13,  4.15328438e+13, -3.56310122e+13,\n",
       "       -3.56310122e+13, -3.56310122e+13, -3.56310122e+13, -3.56310122e+13,\n",
       "        7.59836884e+13,  7.59836884e+13,  7.59836884e+13,  7.59836884e+13,\n",
       "        4.64228882e+13,  7.59836884e+13,  7.59836884e+13,  4.31645022e+12,\n",
       "        4.31645021e+12,  4.31645022e+12,  4.31645022e+12,  4.31645024e+12,\n",
       "        4.31645022e+12,  4.31645021e+12,  1.09554475e+14,  1.09554475e+14,\n",
       "        1.09554475e+14,  1.09554475e+14,  1.09554475e+14,  5.88292069e+13,\n",
       "        5.88292069e+13,  2.93155961e+13,  2.93155961e+13,  2.93155961e+13,\n",
       "       -3.53125000e+00,  5.00000000e-01,  2.93155961e+13, -1.92563425e+13,\n",
       "       -1.92563426e+13, -1.92563426e+13, -1.92563426e+13, -7.83906289e+13,\n",
       "       -7.83906289e+13, -7.83906289e+13, -7.83906289e+13, -7.83906289e+13,\n",
       "       -7.83906289e+13, -7.83906289e+13, -6.96145698e+13, -6.96145698e+13,\n",
       "       -6.96145698e+13, -6.96145698e+13, -6.96145698e+13, -6.96145698e+13,\n",
       "        1.72480441e+14,  1.72480441e+14,  1.72480441e+14,  1.72480441e+14,\n",
       "        1.72480441e+14,  1.72480441e+14, -8.91337639e+13,  5.17049835e+13,\n",
       "        1.14627441e+14,  5.17049835e+13,  5.17049835e+13, -3.86087902e+13,\n",
       "       -3.86087904e+13, -3.86087904e+13,  1.05167732e+14, -3.86087904e+13,\n",
       "       -3.86087904e+13,  5.97122148e+13,  5.97122151e+13,  5.97122151e+13,\n",
       "        1.14627441e+14,  5.97122150e+13,  5.97122151e+13,  3.41792665e+13,\n",
       "        3.41792665e+13,  3.41792665e+13,  2.79314626e+13,  2.79314626e+13,\n",
       "        2.79314625e+13,  2.79314626e+13,  2.79314626e+13,  2.79314625e+13,\n",
       "        8.86792929e+13,  2.79314625e+13,  2.79314625e+13,  8.99453160e+13,\n",
       "        8.99453160e+13,  8.99453161e+13,  8.99453160e+13,  8.99453160e+13,\n",
       "        2.91974857e+13,  0.00000000e+00,  0.00000000e+00,  0.00000000e+00,\n",
       "        0.00000000e+00,  0.00000000e+00,  0.00000000e+00])"
      ]
     },
     "execution_count": 46,
     "metadata": {},
     "output_type": "execute_result"
    }
   ],
   "source": [
    "categorical_model.coef_\n",
    "#there are some very large coefficients "
   ]
  },
  {
   "cell_type": "markdown",
   "metadata": {
    "_uuid": "2b2bb7770c9d70bc8833f32ac98b8c5ade51b510"
   },
   "source": [
    "Let's combine the numerical and categorical dataframes and run a linear regression on all the features\n",
    "\n",
    "ALL FEATURES"
   ]
  },
  {
   "cell_type": "code",
   "execution_count": 47,
   "metadata": {
    "_uuid": "f7a7c95ab07c52f1d7033f16b7e72397354b8840"
   },
   "outputs": [],
   "source": [
    "combined_features = pd.concat([numeric_features,categorical_dummies],axis =1)"
   ]
  },
  {
   "cell_type": "code",
   "execution_count": 48,
   "metadata": {
    "_uuid": "8fcda5a95f50e7e06688eed80219b5d72c25fe1a"
   },
   "outputs": [
    {
     "name": "stdout",
     "output_type": "stream",
     "text": [
      "31\n",
      "231\n",
      "262\n"
     ]
    }
   ],
   "source": [
    "#just to make sure they add up correctly\n",
    "print(len(numeric_features.columns))\n",
    "print(len(categorical_dummies.columns))\n",
    "print(len(combined_features.columns))"
   ]
  },
  {
   "cell_type": "code",
   "execution_count": 49,
   "metadata": {
    "_uuid": "7086f2bbfb45d7d038414c3a0bddbbc09e7f0cef"
   },
   "outputs": [
    {
     "data": {
      "text/plain": [
       "0"
      ]
     },
     "execution_count": 49,
     "metadata": {},
     "output_type": "execute_result"
    }
   ],
   "source": [
    "sum(combined_features.isna().sum(axis=0))"
   ]
  },
  {
   "cell_type": "code",
   "execution_count": 50,
   "metadata": {
    "_uuid": "94da00b91538e8230957390bb398cdb48db01696"
   },
   "outputs": [],
   "source": [
    "X = combined_features\n",
    "y = target\n",
    "\n",
    "X_train, X_test, y_train, y_test = train_test_split(X,y,test_size=0.3,random_state=17)"
   ]
  },
  {
   "cell_type": "code",
   "execution_count": 51,
   "metadata": {
    "_uuid": "bbf3b67eb870951276652e8d9f1cecd8072f2133"
   },
   "outputs": [],
   "source": [
    "allfeat_model = linear_model.LinearRegression()"
   ]
  },
  {
   "cell_type": "code",
   "execution_count": 52,
   "metadata": {
    "_uuid": "1c76de00e8b6954c4125a174b99c7c3958665afb"
   },
   "outputs": [
    {
     "data": {
      "text/plain": [
       "LinearRegression(copy_X=True, fit_intercept=True, n_jobs=None,\n",
       "         normalize=False)"
      ]
     },
     "execution_count": 52,
     "metadata": {},
     "output_type": "execute_result"
    }
   ],
   "source": [
    "allfeat_model.fit(X_train,y_train)"
   ]
  },
  {
   "cell_type": "code",
   "execution_count": 53,
   "metadata": {
    "_uuid": "8816f18c0366241544a75727d5db69b4a332c2f0"
   },
   "outputs": [],
   "source": [
    "test_pred3 = allfeat_model.predict(X_test)\n",
    "test_pred3[test_pred3<0] = 0.1\n",
    "train_pred3 = allfeat_model.predict(X_train)\n",
    "train_pred3[train_pred3<0] = 0.1"
   ]
  },
  {
   "cell_type": "code",
   "execution_count": 54,
   "metadata": {
    "_uuid": "211de433d790c2339d2d0217ec64a6c3a89ae526"
   },
   "outputs": [
    {
     "name": "stdout",
     "output_type": "stream",
     "text": [
      "Test R^2: 0.8662641744116961\n",
      "Train R^2: 0.8955512383346881\n",
      "Test RMSLE: 0.5556380923564731\n",
      "Train RMSLE: 0.12728589202070023\n"
     ]
    }
   ],
   "source": [
    "testR2 = r2_score(y_test, test_pred3)\n",
    "trainR2 = r2_score(y_train, train_pred3)\n",
    "testRMSLE = RMSLE(y_test,test_pred3)\n",
    "trainRMSLE = RMSLE(y_train,train_pred3)\n",
    "print('Test R^2:' ,testR2)\n",
    "print('Train R^2:',trainR2)\n",
    "print('Test RMSLE:', testRMSLE)\n",
    "print('Train RMSLE:', trainRMSLE)\n",
    "performance_df.loc['All Feats'] = [testR2,trainR2,testRMSLE,trainRMSLE]"
   ]
  },
  {
   "cell_type": "code",
   "execution_count": 55,
   "metadata": {
    "_uuid": "21e089bb6228ed3c670f6f4ccfa32644cdd25630"
   },
   "outputs": [
    {
     "data": {
      "text/html": [
       "<div>\n",
       "<style scoped>\n",
       "    .dataframe tbody tr th:only-of-type {\n",
       "        vertical-align: middle;\n",
       "    }\n",
       "\n",
       "    .dataframe tbody tr th {\n",
       "        vertical-align: top;\n",
       "    }\n",
       "\n",
       "    .dataframe thead th {\n",
       "        text-align: right;\n",
       "    }\n",
       "</style>\n",
       "<table border=\"1\" class=\"dataframe\">\n",
       "  <thead>\n",
       "    <tr style=\"text-align: right;\">\n",
       "      <th></th>\n",
       "      <th>Test R^2</th>\n",
       "      <th>Train R^2</th>\n",
       "      <th>Test RMSLE</th>\n",
       "      <th>Train RMSLE</th>\n",
       "    </tr>\n",
       "  </thead>\n",
       "  <tbody>\n",
       "    <tr>\n",
       "      <th>Num Feats</th>\n",
       "      <td>0.844516</td>\n",
       "      <td>0.789518</td>\n",
       "      <td>0.168047</td>\n",
       "      <td>0.514414</td>\n",
       "    </tr>\n",
       "    <tr>\n",
       "      <th>Cat Feats</th>\n",
       "      <td>0.741718</td>\n",
       "      <td>0.834726</td>\n",
       "      <td>1.27287</td>\n",
       "      <td>0.157287</td>\n",
       "    </tr>\n",
       "    <tr>\n",
       "      <th>All Feats</th>\n",
       "      <td>0.866264</td>\n",
       "      <td>0.895551</td>\n",
       "      <td>0.555638</td>\n",
       "      <td>0.127286</td>\n",
       "    </tr>\n",
       "  </tbody>\n",
       "</table>\n",
       "</div>"
      ],
      "text/plain": [
       "           Test R^2 Train R^2 Test RMSLE Train RMSLE\n",
       "Num Feats  0.844516  0.789518   0.168047    0.514414\n",
       "Cat Feats  0.741718  0.834726    1.27287    0.157287\n",
       "All Feats  0.866264  0.895551   0.555638    0.127286"
      ]
     },
     "execution_count": 55,
     "metadata": {},
     "output_type": "execute_result"
    }
   ],
   "source": [
    "performance_df"
   ]
  },
  {
   "cell_type": "markdown",
   "metadata": {
    "_uuid": "355a3a94b2f1b6f6efa6c8a4356a8ab3de87656a"
   },
   "source": [
    "Now this model is getting closer. Let's see what we can do to improve. Are there any features we want to just toss? Let's remember what we had in there"
   ]
  },
  {
   "cell_type": "code",
   "execution_count": 56,
   "metadata": {
    "_uuid": "fc6c843aeb5070fd7c95826fb67bb21e5b93a00c"
   },
   "outputs": [
    {
     "data": {
      "text/plain": [
       "Index(['LotFrontage', 'LotArea', 'OverallQual', 'OverallCond', 'YearBuilt',\n",
       "       'YearRemodAdd', 'MasVnrArea', 'BsmtFinSF1', 'BsmtFinSF2', 'BsmtUnfSF',\n",
       "       'TotalBsmtSF', '1stFlrSF', '2ndFlrSF', 'LowQualFinSF', 'GrLivArea',\n",
       "       'BsmtFullBath', 'BsmtHalfBath', 'FullBath', 'HalfBath', 'BedroomAbvGr',\n",
       "       'KitchenAbvGr', 'TotRmsAbvGrd', 'Fireplaces', 'GarageYrBlt',\n",
       "       'GarageCars', 'GarageArea', 'WoodDeckSF', 'OpenPorchSF', 'ScreenPorch',\n",
       "       'PoolArea', 'YrSold'],\n",
       "      dtype='object')"
      ]
     },
     "execution_count": 56,
     "metadata": {},
     "output_type": "execute_result"
    }
   ],
   "source": [
    "numeric_features.columns #Lets remove YrSold,GarageYrBlt,YearRemodAdd"
   ]
  },
  {
   "cell_type": "code",
   "execution_count": 57,
   "metadata": {
    "_uuid": "8be88433a0c76241a39b503114bc05cf0fc311bc"
   },
   "outputs": [
    {
     "data": {
      "text/plain": [
       "Index(['MSZoning', 'LotShape', 'LandContour', 'LotConfig', 'LandSlope',\n",
       "       'Neighborhood', 'Condition1', 'BldgType', 'HouseStyle', 'RoofStyle',\n",
       "       'Exterior1st', 'Exterior2nd', 'MasVnrType', 'ExterQual', 'ExterCond',\n",
       "       'Foundation', 'BsmtQual', 'BsmtCond', 'BsmtExposure', 'BsmtFinType1',\n",
       "       'BsmtFinType2', 'HeatingQC', 'CentralAir', 'Electrical', 'KitchenQual',\n",
       "       'Functional', 'FireplaceQu', 'GarageType', 'GarageFinish', 'GarageQual',\n",
       "       'GarageCond', 'PavedDrive', 'SaleType', 'SaleCondition', 'MSSubClass'],\n",
       "      dtype='object')"
      ]
     },
     "execution_count": 57,
     "metadata": {},
     "output_type": "execute_result"
    }
   ],
   "source": [
    "categorical_features.columns #Lets remove LotShape,LandContour,PavedDrive"
   ]
  },
  {
   "cell_type": "code",
   "execution_count": 58,
   "metadata": {
    "_uuid": "4031456cb05f5e12b1d4222a1360794ab07d27ef"
   },
   "outputs": [],
   "source": [
    "numeric_features_reduced1 = numeric_features.drop(['YrSold','GarageYrBlt','YearRemodAdd'],axis=1)\n",
    "categorical_features_reduced1 = categorical_features.drop(['LotShape','LandContour','PavedDrive'],axis=1)"
   ]
  },
  {
   "cell_type": "code",
   "execution_count": 59,
   "metadata": {
    "_uuid": "158d2a800643302d3af54cc076734a78a1a457a7"
   },
   "outputs": [],
   "source": [
    "categorical_dummies_reduced1 = pd.get_dummies(categorical_features_reduced1)"
   ]
  },
  {
   "cell_type": "code",
   "execution_count": 60,
   "metadata": {
    "_uuid": "7c202751ba37bb3839608c1f9cc359379ac7f895"
   },
   "outputs": [],
   "source": [
    "combined_features_reduced1 = pd.concat([numeric_features_reduced1,categorical_dummies_reduced1],axis=1)"
   ]
  },
  {
   "cell_type": "code",
   "execution_count": 61,
   "metadata": {
    "_uuid": "43fcf9a050340ada458b34df3751dcf8ffce99f1"
   },
   "outputs": [
    {
     "data": {
      "text/plain": [
       "242"
      ]
     },
     "execution_count": 61,
     "metadata": {},
     "output_type": "execute_result"
    }
   ],
   "source": [
    "len(combined_features_reduced1.columns)"
   ]
  },
  {
   "cell_type": "code",
   "execution_count": 62,
   "metadata": {
    "_uuid": "8464371e5e165ecfd4e52d0890da7c3f9e02d8cc"
   },
   "outputs": [],
   "source": [
    "X=combined_features_reduced1\n",
    "y=target\n",
    "\n",
    "X_train,X_test,y_train,y_test = train_test_split(X,y,test_size=0.3,random_state=17)"
   ]
  },
  {
   "cell_type": "code",
   "execution_count": 63,
   "metadata": {
    "_uuid": "e37039319e15273fe40a86c47a528103c27e0b7c"
   },
   "outputs": [
    {
     "data": {
      "text/plain": [
       "LinearRegression(copy_X=True, fit_intercept=True, n_jobs=None,\n",
       "         normalize=False)"
      ]
     },
     "execution_count": 63,
     "metadata": {},
     "output_type": "execute_result"
    }
   ],
   "source": [
    "reduced_model = linear_model.LinearRegression()\n",
    "reduced_model.fit(X_train,y_train)"
   ]
  },
  {
   "cell_type": "code",
   "execution_count": 64,
   "metadata": {
    "_uuid": "16aafb7d096205dd604f48bc81b6d4cf33b008bd"
   },
   "outputs": [],
   "source": [
    "test_pred4 = reduced_model.predict(X_test)\n",
    "test_pred4[test_pred4<0] = 0.1\n",
    "train_pred4 = reduced_model.predict(X_train)\n",
    "train_pred4[train_pred4<0] = 0.1"
   ]
  },
  {
   "cell_type": "code",
   "execution_count": 65,
   "metadata": {
    "_uuid": "a4d5eb8e0312dace340cf9e67ec568bcc9469728"
   },
   "outputs": [
    {
     "name": "stdout",
     "output_type": "stream",
     "text": [
      "Test R^2: 0.8611975950179575\n",
      "Train R^2: 0.8928306785671889\n",
      "Test RMSLE: 0.22374856838245225\n",
      "Train RMSLE: 0.12677372540206353\n"
     ]
    }
   ],
   "source": [
    "testR2 = r2_score(y_test, test_pred4)\n",
    "trainR2 = r2_score(y_train, train_pred4)\n",
    "testRMSLE = RMSLE(y_test,test_pred4)\n",
    "trainRMSLE = RMSLE(y_train,train_pred4)\n",
    "print('Test R^2:' ,testR2)\n",
    "print('Train R^2:',trainR2)\n",
    "print('Test RMSLE:', testRMSLE)\n",
    "print('Train RMSLE:', trainRMSLE)\n",
    "performance_df.loc['Reduced Feats'] = [testR2,trainR2,testRMSLE,trainRMSLE]"
   ]
  },
  {
   "cell_type": "code",
   "execution_count": 66,
   "metadata": {
    "_uuid": "44d09ed576f4fd8baa91cb9e9d24676f391fe643"
   },
   "outputs": [
    {
     "data": {
      "text/html": [
       "<div>\n",
       "<style scoped>\n",
       "    .dataframe tbody tr th:only-of-type {\n",
       "        vertical-align: middle;\n",
       "    }\n",
       "\n",
       "    .dataframe tbody tr th {\n",
       "        vertical-align: top;\n",
       "    }\n",
       "\n",
       "    .dataframe thead th {\n",
       "        text-align: right;\n",
       "    }\n",
       "</style>\n",
       "<table border=\"1\" class=\"dataframe\">\n",
       "  <thead>\n",
       "    <tr style=\"text-align: right;\">\n",
       "      <th></th>\n",
       "      <th>Test R^2</th>\n",
       "      <th>Train R^2</th>\n",
       "      <th>Test RMSLE</th>\n",
       "      <th>Train RMSLE</th>\n",
       "    </tr>\n",
       "  </thead>\n",
       "  <tbody>\n",
       "    <tr>\n",
       "      <th>Num Feats</th>\n",
       "      <td>0.844516</td>\n",
       "      <td>0.789518</td>\n",
       "      <td>0.168047</td>\n",
       "      <td>0.514414</td>\n",
       "    </tr>\n",
       "    <tr>\n",
       "      <th>Cat Feats</th>\n",
       "      <td>0.741718</td>\n",
       "      <td>0.834726</td>\n",
       "      <td>1.27287</td>\n",
       "      <td>0.157287</td>\n",
       "    </tr>\n",
       "    <tr>\n",
       "      <th>All Feats</th>\n",
       "      <td>0.866264</td>\n",
       "      <td>0.895551</td>\n",
       "      <td>0.555638</td>\n",
       "      <td>0.127286</td>\n",
       "    </tr>\n",
       "    <tr>\n",
       "      <th>Reduced Feats</th>\n",
       "      <td>0.861198</td>\n",
       "      <td>0.892831</td>\n",
       "      <td>0.223749</td>\n",
       "      <td>0.126774</td>\n",
       "    </tr>\n",
       "  </tbody>\n",
       "</table>\n",
       "</div>"
      ],
      "text/plain": [
       "               Test R^2 Train R^2 Test RMSLE Train RMSLE\n",
       "Num Feats      0.844516  0.789518   0.168047    0.514414\n",
       "Cat Feats      0.741718  0.834726    1.27287    0.157287\n",
       "All Feats      0.866264  0.895551   0.555638    0.127286\n",
       "Reduced Feats  0.861198  0.892831   0.223749    0.126774"
      ]
     },
     "execution_count": 66,
     "metadata": {},
     "output_type": "execute_result"
    }
   ],
   "source": [
    "performance_df"
   ]
  },
  {
   "cell_type": "markdown",
   "metadata": {
    "_uuid": "8d469c30942d8f586747aa8d10d92a7c0d62bb33"
   },
   "source": [
    "Let's try to be more systematic about our feature selection and remove features that have higher p values"
   ]
  },
  {
   "cell_type": "code",
   "execution_count": 67,
   "metadata": {
    "_uuid": "26589cb091267796494688198a01ddbd1ff520c8"
   },
   "outputs": [],
   "source": [
    "import statsmodels.api as sm"
   ]
  },
  {
   "cell_type": "code",
   "execution_count": 68,
   "metadata": {
    "_uuid": "01529e252352b7db83d740c822c3fea5a6bb8e41"
   },
   "outputs": [
    {
     "data": {
      "text/plain": [
       "Index(['MSZoning', 'LotShape', 'LandContour', 'LotConfig', 'LandSlope',\n",
       "       'Neighborhood', 'Condition1', 'BldgType', 'HouseStyle', 'RoofStyle',\n",
       "       'Exterior1st', 'Exterior2nd', 'MasVnrType', 'ExterQual', 'ExterCond',\n",
       "       'Foundation', 'BsmtQual', 'BsmtCond', 'BsmtExposure', 'BsmtFinType1',\n",
       "       'BsmtFinType2', 'HeatingQC', 'CentralAir', 'Electrical', 'KitchenQual',\n",
       "       'Functional', 'FireplaceQu', 'GarageType', 'GarageFinish', 'GarageQual',\n",
       "       'GarageCond', 'PavedDrive', 'SaleType', 'SaleCondition', 'MSSubClass'],\n",
       "      dtype='object')"
      ]
     },
     "execution_count": 68,
     "metadata": {},
     "output_type": "execute_result"
    }
   ],
   "source": [
    "categorical_features.columns "
   ]
  },
  {
   "cell_type": "code",
   "execution_count": 69,
   "metadata": {
    "_uuid": "516707bf4a8e2e8102ea437221e78fcfe6bb64f0"
   },
   "outputs": [
    {
     "data": {
      "text/plain": [
       "const    0.976825\n",
       "IR1      0.976825\n",
       "IR2      0.976825\n",
       "IR3      0.976825\n",
       "Reg      0.976825\n",
       "dtype: float64"
      ]
     },
     "execution_count": 69,
     "metadata": {},
     "output_type": "execute_result"
    }
   ],
   "source": [
    "#Does a variable have a significant relationship with sale price\n",
    "#This is a function that will return the p values of a given feature\n",
    "\n",
    "def test_categorical_variable(column):\n",
    "    df = pd.get_dummies(categorical_features[column])\n",
    "    df = sm.add_constant(df)\n",
    "    model = sm.OLS(target,df).fit()\n",
    "    return model.pvalues\n",
    "    for i in range(len(df.columns)):\n",
    "        print(df.columns[i],model.pvalues[i])\n",
    "\n",
    "trial = test_categorical_variable('LotShape')\n",
    "trial"
   ]
  },
  {
   "cell_type": "code",
   "execution_count": 70,
   "metadata": {
    "_uuid": "a08550aba4b9ff862649b85babd441ed1875437a"
   },
   "outputs": [],
   "source": [
    "#We can make a dictionary that will store the feature and the associated p values\n",
    "feature_pvalues = {}\n",
    "for i in categorical_features.columns:\n",
    "    df = pd.get_dummies(categorical_features[i])\n",
    "    df = sm.add_constant(df)\n",
    "    model = sm.OLS(target,df).fit()\n",
    "    feature_pvalues[i] = model.pvalues\n",
    "    \n",
    "for i in numeric_features.columns:\n",
    "    df = numeric_features[i]\n",
    "    df = sm.add_constant(df)\n",
    "    model = sm.OLS(target, df).fit()\n",
    "    feature_pvalues[i] =model.pvalues"
   ]
  },
  {
   "cell_type": "code",
   "execution_count": 71,
   "metadata": {
    "_uuid": "202fbacb44a46758a0f664507bfa24455afdd18c"
   },
   "outputs": [
    {
     "name": "stdout",
     "output_type": "stream",
     "text": [
      "[('YearBuilt', 7.682137132174837e-92), ('YearRemodAdd', 1.0993812729311959e-88), ('GarageYrBlt', 5.359571261195365e-87), ('MasVnrArea', 3.9247117417871214e-83), ('Fireplaces', 6.1414874611216516e-80), ('GarageArea', 5.110491182531848e-66), ('OverallQual', 1.6679705922114187e-57), ('BsmtFinSF1', 3.3941098292887825e-53), ('TotalBsmtSF', 2.932535257196928e-46), ('GarageCars', 3.769820051601001e-46), ('WoodDeckSF', 3.9722165356265185e-37), ('2ndFlrSF', 5.7643351191779375e-36), ('OpenPorchSF', 3.493373623095715e-35), ('HalfBath', 1.6504733955711194e-28), ('FullBath', 7.714661241553567e-25), ('LotArea', 1.1231391549186041e-24), ('BsmtFullBath', 1.5503441372135892e-18), ('BsmtUnfSF', 1.1829757963595858e-16), ('LotFrontage', 3.104287498169954e-15), ('1stFlrSF', 7.954351818120594e-12), ('BedroomAbvGr', 9.92749732617919e-11), ('KitchenQual', 1.740412595903901e-09), ('ExterQual', 1.192880149109605e-08), ('KitchenAbvGr', 1.8604260320754307e-07), ('ScreenPorch', 1.9721400194693092e-05), ('GrLivArea', 3.6065544490359065e-05), ('PoolArea', 0.00040734896011964354), ('OverallCond', 0.002912351267915641), ('GarageFinish', 0.09546389503486521), ('TotRmsAbvGrd', 0.1341981167301225), ('LandContour', 0.3198233974859051), ('LowQualFinSF', 0.3282073098405427), ('PavedDrive', 0.37904146947815176), ('BsmtFinType1', 0.45631739298627205), ('YrSold', 0.5146847745888357), ('BsmtHalfBath', 0.5201536357277694), ('BsmtFinSF2', 0.6639986508340674), ('Neighborhood', 0.7529093201545118), ('BsmtFinType2', 0.8957104354431463), ('Foundation', 1.08554404480172), ('Condition1', 1.2869114252383915), ('GarageType', 1.2985909933323707), ('BsmtCond', 1.3923896646190725), ('HeatingQC', 1.4901161004064492), ('HouseStyle', 1.6822513758616038), ('BldgType', 1.9086579876594898), ('Functional', 1.956376122641926), ('SaleType', 2.063812425046164), ('CentralAir', 2.3139432621683644), ('LandSlope', 2.9316716505232288), ('RoofStyle', 2.965420825682595), ('LotConfig', 3.0142796367113345), ('ExterCond', 3.2005045145958073), ('MSSubClass', 3.5421996861046403), ('MasVnrType', 3.969639811972423), ('Exterior1st', 4.237423404432567), ('LotShape', 4.884123683390371), ('SaleCondition', 4.9164613057428355), ('FireplaceQu', 4.937573227055976), ('Exterior2nd', 4.956147028728977), ('MSZoning', 4.9665279871895205), ('Electrical', 5.4391344412383065), ('BsmtExposure', 5.520600695676574), ('BsmtQual', 5.9796127390137475), ('GarageCond', 6.057188511349285), ('GarageQual', 6.502415568637073)]\n",
      "[('YearBuilt', 3.8410685660874183e-92), ('YearRemodAdd', 5.4969063646559794e-89), ('GarageYrBlt', 2.6797856305976826e-87), ('MasVnrArea', 1.9623558708935607e-83), ('Fireplaces', 3.0707437305608258e-80), ('GarageArea', 2.555245591265924e-66), ('OverallQual', 8.339852961057093e-58), ('BsmtFinSF1', 1.6970549146443912e-53), ('TotalBsmtSF', 1.466267628598464e-46), ('GarageCars', 1.8849100258005006e-46), ('WoodDeckSF', 1.9861082678132593e-37), ('2ndFlrSF', 2.8821675595889687e-36), ('OpenPorchSF', 1.7466868115478574e-35), ('HalfBath', 8.252366977855597e-29), ('FullBath', 3.8573306207767833e-25), ('LotArea', 5.6156957745930205e-25), ('BsmtFullBath', 7.751720686067946e-19), ('BsmtUnfSF', 5.914878981797929e-17), ('LotFrontage', 1.552143749084977e-15), ('1stFlrSF', 3.977175909060297e-12), ('BedroomAbvGr', 4.963748663089595e-11), ('KitchenQual', 3.4808251918078023e-10), ('ExterQual', 2.38576029821921e-09), ('KitchenAbvGr', 9.302130160377153e-08), ('ScreenPorch', 9.860700097346546e-06), ('GrLivArea', 1.8032772245179532e-05), ('PoolArea', 0.00020367448005982177), ('OverallCond', 0.0014561756339578206), ('GarageFinish', 0.019092779006973044), ('Neighborhood', 0.028958050775173532), ('BsmtFinType1', 0.05703967412328401), ('LandContour', 0.06396467949718102), ('TotRmsAbvGrd', 0.06709905836506125), ('PavedDrive', 0.09476036736953794), ('BsmtFinType2', 0.11196380443039329), ('Condition1', 0.12869114252383915), ('Foundation', 0.15507772068595999), ('GarageType', 0.16232387416654634), ('LowQualFinSF', 0.16410365492027135), ('HouseStyle', 0.1869168195401782), ('SaleType', 0.2063812425046164), ('MSSubClass', 0.22138748038154002), ('BsmtCond', 0.23206494410317877), ('Functional', 0.24454701533024076), ('HeatingQC', 0.24835268340107486), ('YrSold', 0.25734238729441783), ('BsmtHalfBath', 0.2600768178638847), ('Exterior1st', 0.26483896277703545), ('Exterior2nd', 0.29153806051346925), ('BldgType', 0.31810966460991497), ('BsmtFinSF2', 0.3319993254170337), ('RoofStyle', 0.42363154652608503), ('LotConfig', 0.5023799394518891), ('ExterCond', 0.5334174190993012), ('SaleCondition', 0.7023516151061193), ('FireplaceQu', 0.7053676038651394), ('LandSlope', 0.7329179126308072), ('CentralAir', 0.7713144207227881), ('Electrical', 0.7770192058911867), ('MasVnrType', 0.7939279623944846), ('MSZoning', 0.8277546645315867), ('GarageCond', 0.8653126444784692), ('BsmtExposure', 0.9201001159460956), ('GarageQual', 0.928916509805296), ('LotShape', 0.9768247366780741), ('BsmtQual', 0.9966021231689579)]\n"
     ]
    }
   ],
   "source": [
    "#We'll create two lists that contains features and characteristics of their p values\n",
    "sum_pvalues = {}\n",
    "avg_pvalues = {}\n",
    "for x in feature_pvalues:\n",
    "    total = 0.0\n",
    "    count = 0\n",
    "    for y in feature_pvalues[x]:\n",
    "        total += y\n",
    "        count += 1\n",
    "    sum_pvalues[x] = total\n",
    "    avg_pvalues[x] = total/count\n",
    "sum_pvalues = sorted(sum_pvalues.items(), key=lambda x: x[1])\n",
    "avg_pvalues = sorted(avg_pvalues.items(), key=lambda x: x[1])\n",
    "print(sum_pvalues)\n",
    "print(avg_pvalues)"
   ]
  },
  {
   "cell_type": "code",
   "execution_count": 72,
   "metadata": {
    "_uuid": "4255f1381b054fc769cd30c325354c0324ce0dfe"
   },
   "outputs": [
    {
     "name": "stdout",
     "output_type": "stream",
     "text": [
      "const    0.996602\n",
      "Ex       0.996602\n",
      "Fa       0.996602\n",
      "Gd       0.996602\n",
      "None     0.996602\n",
      "TA       0.996602\n",
      "dtype: float64\n",
      "const    0.976825\n",
      "IR1      0.976825\n",
      "IR2      0.976825\n",
      "IR3      0.976825\n",
      "Reg      0.976825\n",
      "dtype: float64\n",
      "const    0.928917\n",
      "Ex       0.928917\n",
      "Fa       0.928917\n",
      "Gd       0.928917\n",
      "None     0.928917\n",
      "Po       0.928917\n",
      "TA       0.928917\n",
      "dtype: float64\n",
      "const    0.9201\n",
      "Av       0.9201\n",
      "Gd       0.9201\n",
      "Mn       0.9201\n",
      "No       0.9201\n",
      "None     0.9201\n",
      "dtype: float64\n",
      "const    0.865313\n",
      "Ex       0.865313\n",
      "Fa       0.865313\n",
      "Gd       0.865313\n",
      "None     0.865313\n",
      "Po       0.865313\n",
      "TA       0.865313\n",
      "dtype: float64\n",
      "const      0.827755\n",
      "C (all)    0.827755\n",
      "FV         0.827755\n",
      "RH         0.827755\n",
      "RL         0.827755\n",
      "RM         0.827755\n",
      "dtype: float64\n",
      "const    0.777019\n",
      "FuseA    0.777019\n",
      "FuseF    0.777019\n",
      "FuseP    0.777019\n",
      "Mix      0.777019\n",
      "None     0.777019\n",
      "SBrkr    0.777019\n",
      "dtype: float64\n",
      "const    0.771314\n",
      "N        0.771314\n",
      "Y        0.771314\n",
      "dtype: float64\n",
      "const      0.793928\n",
      "BrkCmn     0.793928\n",
      "BrkFace    0.793928\n",
      "None       0.793928\n",
      "Stone      0.793928\n",
      "dtype: float64\n",
      "const    0.732918\n",
      "Gtl      0.732918\n",
      "Mod      0.732918\n",
      "Sev      0.732918\n",
      "dtype: float64\n"
     ]
    }
   ],
   "source": [
    "#Exploring the p values for some categorical features\n",
    "print(test_categorical_variable('BsmtQual'))\n",
    "print(test_categorical_variable('LotShape'))\n",
    "print(test_categorical_variable('GarageQual'))\n",
    "print(test_categorical_variable('BsmtExposure'))\n",
    "print(test_categorical_variable('GarageCond'))\n",
    "print(test_categorical_variable('MSZoning'))\n",
    "print(test_categorical_variable('Electrical'))\n",
    "print(test_categorical_variable('CentralAir'))\n",
    "print(test_categorical_variable('MasVnrType'))\n",
    "print(test_categorical_variable('LandSlope'))"
   ]
  },
  {
   "cell_type": "markdown",
   "metadata": {
    "_uuid": "9b2abd946a9534b37744b078c689172ba6b1526d"
   },
   "source": [
    "As a cutoff, we'll drop any feature with an average p value greater than 0.5, and see if that model performs any better"
   ]
  },
  {
   "cell_type": "code",
   "execution_count": 73,
   "metadata": {
    "_uuid": "37e115c658ea85ae17de87c9d8b5d5cfba3b84e7"
   },
   "outputs": [
    {
     "data": {
      "text/plain": [
       "['LotConfig',\n",
       " 'ExterCond',\n",
       " 'SaleCondition',\n",
       " 'FireplaceQu',\n",
       " 'LandSlope',\n",
       " 'CentralAir',\n",
       " 'Electrical',\n",
       " 'MasVnrType',\n",
       " 'MSZoning',\n",
       " 'GarageCond',\n",
       " 'BsmtExposure',\n",
       " 'GarageQual',\n",
       " 'LotShape',\n",
       " 'BsmtQual']"
      ]
     },
     "execution_count": 73,
     "metadata": {},
     "output_type": "execute_result"
    }
   ],
   "source": [
    "features_to_drop = []\n",
    "for feature in avg_pvalues:\n",
    "    avg_p = feature[1]\n",
    "    if avg_p > 0.5:\n",
    "        features_to_drop.append(feature[0])\n",
    "        \n",
    "features_to_drop"
   ]
  },
  {
   "cell_type": "code",
   "execution_count": 74,
   "metadata": {
    "_uuid": "9a6570fb7bd8bccdfe217f69e1120f3ce498f419"
   },
   "outputs": [
    {
     "name": "stdout",
     "output_type": "stream",
     "text": [
      "Index(['LotFrontage', 'LotArea', 'OverallQual', 'OverallCond', 'YearBuilt',\n",
      "       'YearRemodAdd', 'MasVnrArea', 'BsmtFinSF1', 'BsmtFinSF2', 'BsmtUnfSF',\n",
      "       'TotalBsmtSF', '1stFlrSF', '2ndFlrSF', 'LowQualFinSF', 'GrLivArea',\n",
      "       'BsmtFullBath', 'BsmtHalfBath', 'FullBath', 'HalfBath', 'BedroomAbvGr',\n",
      "       'KitchenAbvGr', 'TotRmsAbvGrd', 'Fireplaces', 'GarageYrBlt',\n",
      "       'GarageCars', 'GarageArea', 'WoodDeckSF', 'OpenPorchSF', 'ScreenPorch',\n",
      "       'PoolArea', 'YrSold'],\n",
      "      dtype='object')\n",
      "Index(['LandContour', 'Neighborhood', 'Condition1', 'BldgType', 'HouseStyle',\n",
      "       'RoofStyle', 'Exterior1st', 'Exterior2nd', 'ExterQual', 'Foundation',\n",
      "       'BsmtCond', 'BsmtFinType1', 'BsmtFinType2', 'HeatingQC', 'KitchenQual',\n",
      "       'Functional', 'GarageType', 'GarageFinish', 'PavedDrive', 'SaleType',\n",
      "       'MSSubClass'],\n",
      "      dtype='object')\n"
     ]
    }
   ],
   "source": [
    "pval_numeric_features = numeric_features.copy()\n",
    "pval_categorical_features = categorical_features.copy()\n",
    "for x in features_to_drop:\n",
    "    data_type = column_data.loc[x,'DataType']\n",
    "    if data_type == 'Numeric':\n",
    "        pval_numeric_features.drop(x,axis=1,inplace=True)\n",
    "    elif data_type == 'Categorical':\n",
    "        pval_categorical_features.drop(x,axis=1,inplace=True)\n",
    "print(pval_numeric_features.columns)\n",
    "print(pval_categorical_features.columns)"
   ]
  },
  {
   "cell_type": "code",
   "execution_count": 75,
   "metadata": {
    "_uuid": "6e63282d8fa0d2ed353490d422173dc19437c4b5"
   },
   "outputs": [],
   "source": [
    "pval_categorical_dummies = pd.get_dummies(pval_categorical_features)\n",
    "pval_combined_features = pd.concat([pval_numeric_features, pval_categorical_dummies],axis=1)"
   ]
  },
  {
   "cell_type": "code",
   "execution_count": 76,
   "metadata": {
    "_uuid": "693ce3585e66c6ec190af1b4b74dfbf21a4c2331"
   },
   "outputs": [],
   "source": [
    "X = pval_combined_features\n",
    "y= target\n",
    "\n",
    "X_train,X_test,y_train,y_test = train_test_split(X,y,test_size=0.3,random_state=17)"
   ]
  },
  {
   "cell_type": "code",
   "execution_count": 77,
   "metadata": {
    "_uuid": "519500a8953cf8c19c17786332cfc7bcd8f20eb0"
   },
   "outputs": [],
   "source": [
    "final_lin_model = linear_model.LinearRegression()\n",
    "final_lin_model.fit(X_train,y_train)\n",
    "test_pred5 = final_lin_model.predict(X_test)\n",
    "test_pred5[test_pred5<0] = 0.1\n",
    "train_pred5 = final_lin_model.predict(X_train)\n",
    "train_pred5[train_pred5<0] = 0.1"
   ]
  },
  {
   "cell_type": "code",
   "execution_count": 78,
   "metadata": {
    "_uuid": "6378ce0b2ea804b439e354f6cde6368e7de758f5"
   },
   "outputs": [
    {
     "name": "stdout",
     "output_type": "stream",
     "text": [
      "Test R^2: 0.8710358984173057\n",
      "Train R^2: 0.877749230867095\n",
      "Test RMSLE: 0.1482848861283156\n",
      "Train RMSLE: 0.14128642391931856\n"
     ]
    }
   ],
   "source": [
    "testR2 = r2_score(y_test, test_pred5)\n",
    "trainR2 = r2_score(y_train, train_pred5)\n",
    "testRMSLE = RMSLE(y_test,test_pred5)\n",
    "trainRMSLE = RMSLE(y_train,train_pred5)\n",
    "print('Test R^2:' ,testR2)\n",
    "print('Train R^2:',trainR2)\n",
    "print('Test RMSLE:', testRMSLE)\n",
    "print('Train RMSLE:', trainRMSLE)\n",
    "performance_df.loc['P Value Reduced'] = [testR2,trainR2,testRMSLE,trainRMSLE]"
   ]
  },
  {
   "cell_type": "code",
   "execution_count": 79,
   "metadata": {
    "_uuid": "eeab96624cbdcef6e04ce4d3e615780695df12b3"
   },
   "outputs": [
    {
     "data": {
      "text/html": [
       "<div>\n",
       "<style scoped>\n",
       "    .dataframe tbody tr th:only-of-type {\n",
       "        vertical-align: middle;\n",
       "    }\n",
       "\n",
       "    .dataframe tbody tr th {\n",
       "        vertical-align: top;\n",
       "    }\n",
       "\n",
       "    .dataframe thead th {\n",
       "        text-align: right;\n",
       "    }\n",
       "</style>\n",
       "<table border=\"1\" class=\"dataframe\">\n",
       "  <thead>\n",
       "    <tr style=\"text-align: right;\">\n",
       "      <th></th>\n",
       "      <th>Test R^2</th>\n",
       "      <th>Train R^2</th>\n",
       "      <th>Test RMSLE</th>\n",
       "      <th>Train RMSLE</th>\n",
       "    </tr>\n",
       "  </thead>\n",
       "  <tbody>\n",
       "    <tr>\n",
       "      <th>Num Feats</th>\n",
       "      <td>0.844516</td>\n",
       "      <td>0.789518</td>\n",
       "      <td>0.168047</td>\n",
       "      <td>0.514414</td>\n",
       "    </tr>\n",
       "    <tr>\n",
       "      <th>Cat Feats</th>\n",
       "      <td>0.741718</td>\n",
       "      <td>0.834726</td>\n",
       "      <td>1.27287</td>\n",
       "      <td>0.157287</td>\n",
       "    </tr>\n",
       "    <tr>\n",
       "      <th>All Feats</th>\n",
       "      <td>0.866264</td>\n",
       "      <td>0.895551</td>\n",
       "      <td>0.555638</td>\n",
       "      <td>0.127286</td>\n",
       "    </tr>\n",
       "    <tr>\n",
       "      <th>Reduced Feats</th>\n",
       "      <td>0.861198</td>\n",
       "      <td>0.892831</td>\n",
       "      <td>0.223749</td>\n",
       "      <td>0.126774</td>\n",
       "    </tr>\n",
       "    <tr>\n",
       "      <th>P Value Reduced</th>\n",
       "      <td>0.871036</td>\n",
       "      <td>0.877749</td>\n",
       "      <td>0.148285</td>\n",
       "      <td>0.141286</td>\n",
       "    </tr>\n",
       "  </tbody>\n",
       "</table>\n",
       "</div>"
      ],
      "text/plain": [
       "                 Test R^2 Train R^2 Test RMSLE Train RMSLE\n",
       "Num Feats        0.844516  0.789518   0.168047    0.514414\n",
       "Cat Feats        0.741718  0.834726    1.27287    0.157287\n",
       "All Feats        0.866264  0.895551   0.555638    0.127286\n",
       "Reduced Feats    0.861198  0.892831   0.223749    0.126774\n",
       "P Value Reduced  0.871036  0.877749   0.148285    0.141286"
      ]
     },
     "execution_count": 79,
     "metadata": {},
     "output_type": "execute_result"
    }
   ],
   "source": [
    "performance_df"
   ]
  },
  {
   "cell_type": "markdown",
   "metadata": {
    "_uuid": "21949f3da5465e9d340a7602838fa2dab4d280bf"
   },
   "source": [
    "REGULARIZATION: LASSO AND RIDGE"
   ]
  },
  {
   "cell_type": "code",
   "execution_count": 80,
   "metadata": {
    "_uuid": "1f30ad08fc4870f8dfbbd5c7115c236657d7d7a8"
   },
   "outputs": [],
   "source": [
    " lasso = linear_model.Lasso(alpha=100,max_iter=1000000)"
   ]
  },
  {
   "cell_type": "code",
   "execution_count": 81,
   "metadata": {
    "_uuid": "25085b40e68313845dd9c849a621dc5149a6d9a7"
   },
   "outputs": [
    {
     "data": {
      "text/plain": [
       "262"
      ]
     },
     "execution_count": 81,
     "metadata": {},
     "output_type": "execute_result"
    }
   ],
   "source": [
    "len(combined_features.columns)"
   ]
  },
  {
   "cell_type": "code",
   "execution_count": 82,
   "metadata": {
    "_uuid": "961e83557aa395ffa7bc034e4c79b07175eede55"
   },
   "outputs": [],
   "source": [
    "X=combined_features\n",
    "y=target\n",
    "\n",
    "X_train, X_test, y_train, y_test = train_test_split(X,y,test_size =0.3,random_state=17)\n",
    "\n",
    "lasso.fit(X_train, y_train)\n",
    "test_pred6 = lasso.predict(X_test)\n",
    "test_pred6[test_pred6<0] = 0.1\n",
    "train_pred6 = lasso.predict(X_train)\n",
    "train_pred6[train_pred6<0] = 0.1"
   ]
  },
  {
   "cell_type": "code",
   "execution_count": 83,
   "metadata": {
    "_uuid": "b5d05df38c6a9ebc6878b9cd25f67438ad5a5b24"
   },
   "outputs": [
    {
     "name": "stdout",
     "output_type": "stream",
     "text": [
      "Test R^2: 0.8927501234601533\n",
      "Train R^2: 0.883532058413742\n",
      "Test RMSLE: 0.1341911474355634\n",
      "Train RMSLE: 0.12968903675699378\n"
     ]
    }
   ],
   "source": [
    "testR2 = r2_score(y_test, test_pred6)\n",
    "trainR2 = r2_score(y_train, train_pred6)\n",
    "testRMSLE = RMSLE(y_test,test_pred6)\n",
    "trainRMSLE = RMSLE(y_train,train_pred6)\n",
    "print('Test R^2:' ,testR2)\n",
    "print('Train R^2:',trainR2)\n",
    "print('Test RMSLE:', testRMSLE)\n",
    "print('Train RMSLE:', trainRMSLE)\n",
    "performance_df.loc['Lasso'] = [testR2,trainR2,testRMSLE,trainRMSLE]"
   ]
  },
  {
   "cell_type": "code",
   "execution_count": 84,
   "metadata": {
    "_uuid": "1627ee5dd4c484834a9bbc0d0fa9da53505a3e6b"
   },
   "outputs": [
    {
     "data": {
      "text/html": [
       "<div>\n",
       "<style scoped>\n",
       "    .dataframe tbody tr th:only-of-type {\n",
       "        vertical-align: middle;\n",
       "    }\n",
       "\n",
       "    .dataframe tbody tr th {\n",
       "        vertical-align: top;\n",
       "    }\n",
       "\n",
       "    .dataframe thead th {\n",
       "        text-align: right;\n",
       "    }\n",
       "</style>\n",
       "<table border=\"1\" class=\"dataframe\">\n",
       "  <thead>\n",
       "    <tr style=\"text-align: right;\">\n",
       "      <th></th>\n",
       "      <th>Test R^2</th>\n",
       "      <th>Train R^2</th>\n",
       "      <th>Test RMSLE</th>\n",
       "      <th>Train RMSLE</th>\n",
       "    </tr>\n",
       "  </thead>\n",
       "  <tbody>\n",
       "    <tr>\n",
       "      <th>Num Feats</th>\n",
       "      <td>0.844516</td>\n",
       "      <td>0.789518</td>\n",
       "      <td>0.168047</td>\n",
       "      <td>0.514414</td>\n",
       "    </tr>\n",
       "    <tr>\n",
       "      <th>Cat Feats</th>\n",
       "      <td>0.741718</td>\n",
       "      <td>0.834726</td>\n",
       "      <td>1.27287</td>\n",
       "      <td>0.157287</td>\n",
       "    </tr>\n",
       "    <tr>\n",
       "      <th>All Feats</th>\n",
       "      <td>0.866264</td>\n",
       "      <td>0.895551</td>\n",
       "      <td>0.555638</td>\n",
       "      <td>0.127286</td>\n",
       "    </tr>\n",
       "    <tr>\n",
       "      <th>Reduced Feats</th>\n",
       "      <td>0.861198</td>\n",
       "      <td>0.892831</td>\n",
       "      <td>0.223749</td>\n",
       "      <td>0.126774</td>\n",
       "    </tr>\n",
       "    <tr>\n",
       "      <th>P Value Reduced</th>\n",
       "      <td>0.871036</td>\n",
       "      <td>0.877749</td>\n",
       "      <td>0.148285</td>\n",
       "      <td>0.141286</td>\n",
       "    </tr>\n",
       "    <tr>\n",
       "      <th>Lasso</th>\n",
       "      <td>0.89275</td>\n",
       "      <td>0.883532</td>\n",
       "      <td>0.134191</td>\n",
       "      <td>0.129689</td>\n",
       "    </tr>\n",
       "  </tbody>\n",
       "</table>\n",
       "</div>"
      ],
      "text/plain": [
       "                 Test R^2 Train R^2 Test RMSLE Train RMSLE\n",
       "Num Feats        0.844516  0.789518   0.168047    0.514414\n",
       "Cat Feats        0.741718  0.834726    1.27287    0.157287\n",
       "All Feats        0.866264  0.895551   0.555638    0.127286\n",
       "Reduced Feats    0.861198  0.892831   0.223749    0.126774\n",
       "P Value Reduced  0.871036  0.877749   0.148285    0.141286\n",
       "Lasso             0.89275  0.883532   0.134191    0.129689"
      ]
     },
     "execution_count": 84,
     "metadata": {},
     "output_type": "execute_result"
    }
   ],
   "source": [
    "performance_df"
   ]
  },
  {
   "cell_type": "code",
   "execution_count": 85,
   "metadata": {
    "_uuid": "c664de2dc800cfe11a204ce8f766bf41ea8a15d1"
   },
   "outputs": [],
   "source": [
    "ridge = linear_model.Ridge(alpha=150)"
   ]
  },
  {
   "cell_type": "code",
   "execution_count": 86,
   "metadata": {
    "_uuid": "b75482f5bc6c21a0a4ac53a94b16992b0026b9f1"
   },
   "outputs": [],
   "source": [
    "X=combined_features\n",
    "y=target\n",
    "\n",
    "X_train, X_test, y_train, y_test = train_test_split(X,y,test_size =0.3,random_state=17)\n",
    "\n",
    "ridge.fit(X_train, y_train)\n",
    "test_pred7 = ridge.predict(X_test)\n",
    "test_pred7[test_pred7<0] = 0.1\n",
    "train_pred7 = ridge.predict(X_train)\n",
    "train_pred7[train_pred7<0] = 0.1"
   ]
  },
  {
   "cell_type": "code",
   "execution_count": 87,
   "metadata": {
    "_uuid": "899c1854371667d7b10b5a0317a85c3dee456426"
   },
   "outputs": [
    {
     "name": "stdout",
     "output_type": "stream",
     "text": [
      "Test R^2: 0.8843715714795047\n",
      "Train R^2: 0.8446116434194897\n",
      "Test RMSLE: 0.13586227346153973\n",
      "Train RMSLE: 0.13971094097817532\n"
     ]
    }
   ],
   "source": [
    "testR2 = r2_score(y_test, test_pred7)\n",
    "trainR2 = r2_score(y_train, train_pred7)\n",
    "testRMSLE = RMSLE(y_test,test_pred7)\n",
    "trainRMSLE = RMSLE(y_train,train_pred7)\n",
    "print('Test R^2:' ,testR2)\n",
    "print('Train R^2:',trainR2)\n",
    "print('Test RMSLE:', testRMSLE)\n",
    "print('Train RMSLE:', trainRMSLE)\n",
    "performance_df.loc['Ridge'] = [testR2,trainR2,testRMSLE,trainRMSLE]"
   ]
  },
  {
   "cell_type": "code",
   "execution_count": 88,
   "metadata": {
    "_uuid": "a931989fb6235d87f78e4e1d76448f2e7f782bfa"
   },
   "outputs": [
    {
     "data": {
      "text/html": [
       "<div>\n",
       "<style scoped>\n",
       "    .dataframe tbody tr th:only-of-type {\n",
       "        vertical-align: middle;\n",
       "    }\n",
       "\n",
       "    .dataframe tbody tr th {\n",
       "        vertical-align: top;\n",
       "    }\n",
       "\n",
       "    .dataframe thead th {\n",
       "        text-align: right;\n",
       "    }\n",
       "</style>\n",
       "<table border=\"1\" class=\"dataframe\">\n",
       "  <thead>\n",
       "    <tr style=\"text-align: right;\">\n",
       "      <th></th>\n",
       "      <th>Test R^2</th>\n",
       "      <th>Train R^2</th>\n",
       "      <th>Test RMSLE</th>\n",
       "      <th>Train RMSLE</th>\n",
       "    </tr>\n",
       "  </thead>\n",
       "  <tbody>\n",
       "    <tr>\n",
       "      <th>Num Feats</th>\n",
       "      <td>0.844516</td>\n",
       "      <td>0.789518</td>\n",
       "      <td>0.168047</td>\n",
       "      <td>0.514414</td>\n",
       "    </tr>\n",
       "    <tr>\n",
       "      <th>Cat Feats</th>\n",
       "      <td>0.741718</td>\n",
       "      <td>0.834726</td>\n",
       "      <td>1.27287</td>\n",
       "      <td>0.157287</td>\n",
       "    </tr>\n",
       "    <tr>\n",
       "      <th>All Feats</th>\n",
       "      <td>0.866264</td>\n",
       "      <td>0.895551</td>\n",
       "      <td>0.555638</td>\n",
       "      <td>0.127286</td>\n",
       "    </tr>\n",
       "    <tr>\n",
       "      <th>Reduced Feats</th>\n",
       "      <td>0.861198</td>\n",
       "      <td>0.892831</td>\n",
       "      <td>0.223749</td>\n",
       "      <td>0.126774</td>\n",
       "    </tr>\n",
       "    <tr>\n",
       "      <th>P Value Reduced</th>\n",
       "      <td>0.871036</td>\n",
       "      <td>0.877749</td>\n",
       "      <td>0.148285</td>\n",
       "      <td>0.141286</td>\n",
       "    </tr>\n",
       "    <tr>\n",
       "      <th>Lasso</th>\n",
       "      <td>0.89275</td>\n",
       "      <td>0.883532</td>\n",
       "      <td>0.134191</td>\n",
       "      <td>0.129689</td>\n",
       "    </tr>\n",
       "    <tr>\n",
       "      <th>Ridge</th>\n",
       "      <td>0.884372</td>\n",
       "      <td>0.844612</td>\n",
       "      <td>0.135862</td>\n",
       "      <td>0.139711</td>\n",
       "    </tr>\n",
       "  </tbody>\n",
       "</table>\n",
       "</div>"
      ],
      "text/plain": [
       "                 Test R^2 Train R^2 Test RMSLE Train RMSLE\n",
       "Num Feats        0.844516  0.789518   0.168047    0.514414\n",
       "Cat Feats        0.741718  0.834726    1.27287    0.157287\n",
       "All Feats        0.866264  0.895551   0.555638    0.127286\n",
       "Reduced Feats    0.861198  0.892831   0.223749    0.126774\n",
       "P Value Reduced  0.871036  0.877749   0.148285    0.141286\n",
       "Lasso             0.89275  0.883532   0.134191    0.129689\n",
       "Ridge            0.884372  0.844612   0.135862    0.139711"
      ]
     },
     "execution_count": 88,
     "metadata": {},
     "output_type": "execute_result"
    }
   ],
   "source": [
    "performance_df"
   ]
  },
  {
   "cell_type": "markdown",
   "metadata": {
    "_uuid": "fa5041dff6594d7f95c508538ec26b0e37eb8362"
   },
   "source": [
    "K NEAREST NEIGHBORS"
   ]
  },
  {
   "cell_type": "code",
   "execution_count": 89,
   "metadata": {
    "_uuid": "048ee800b8ab61625655ab88a049fe3c5bbf0de4"
   },
   "outputs": [],
   "source": [
    "from sklearn.preprocessing import StandardScaler\n",
    "from sklearn.neighbors import KNeighborsRegressor\n",
    "scaler = StandardScaler()\n",
    "regressor1 = KNeighborsRegressor(n_neighbors=1)\n",
    "regressor8 = KNeighborsRegressor(n_neighbors=8)\n",
    "regressor20 = KNeighborsRegressor(n_neighbors=20)"
   ]
  },
  {
   "cell_type": "code",
   "execution_count": 90,
   "metadata": {
    "_uuid": "135986504c4b9debdb23879227a9f8ee95fd9c1f"
   },
   "outputs": [
    {
     "name": "stderr",
     "output_type": "stream",
     "text": [
      "/opt/conda/lib/python3.6/site-packages/sklearn/preprocessing/data.py:645: DataConversionWarning: Data with input dtype uint8, int64, float64 were all converted to float64 by StandardScaler.\n",
      "  return self.partial_fit(X, y)\n",
      "/opt/conda/lib/python3.6/site-packages/ipykernel_launcher.py:6: DataConversionWarning: Data with input dtype uint8, int64, float64 were all converted to float64 by StandardScaler.\n",
      "  \n",
      "/opt/conda/lib/python3.6/site-packages/ipykernel_launcher.py:7: DataConversionWarning: Data with input dtype uint8, int64, float64 were all converted to float64 by StandardScaler.\n",
      "  import sys\n"
     ]
    },
    {
     "data": {
      "text/plain": [
       "KNeighborsRegressor(algorithm='auto', leaf_size=30, metric='minkowski',\n",
       "          metric_params=None, n_jobs=None, n_neighbors=20, p=2,\n",
       "          weights='uniform')"
      ]
     },
     "execution_count": 90,
     "metadata": {},
     "output_type": "execute_result"
    }
   ],
   "source": [
    "X = combined_features\n",
    "y = target\n",
    "\n",
    "X_train, X_test, y_train, y_test = train_test_split(X,y,test_size=0.3, random_state=17)\n",
    "scaler.fit(X_train)\n",
    "X_train = scaler.transform(X_train)\n",
    "X_test = scaler.transform(X_test)\n",
    "\n",
    "regressor1.fit(X_train,y_train)\n",
    "regressor8.fit(X_train,y_train)\n",
    "regressor20.fit(X_train,y_train)"
   ]
  },
  {
   "cell_type": "code",
   "execution_count": 91,
   "metadata": {
    "_uuid": "3bf72d3d841009c1767adef21294a2db775ee276"
   },
   "outputs": [
    {
     "name": "stdout",
     "output_type": "stream",
     "text": [
      "Test RMSLE: 0.24377630989291615\n",
      "Train RMSLE: 0.0017544969343949402\n",
      "Test RMSLE: 0.18976822925344417\n",
      "Train RMSLE: 0.17764671520530045\n",
      "Test RMSLE: 0.1952733033630603\n",
      "Train RMSLE: 0.1987229269347967\n"
     ]
    }
   ],
   "source": [
    "test_pred8 = regressor1.predict(X_test)\n",
    "test_pred8[test_pred8<0]=0.1\n",
    "train_pred8 = regressor1.predict(X_train)\n",
    "train_pred8[train_pred8<0]=0.1\n",
    "\n",
    "testR2 = 'NA'\n",
    "trainR2 = 'NA'\n",
    "testRMSLE = RMSLE(y_test,test_pred8)\n",
    "trainRMSLE = RMSLE(y_train,train_pred8)\n",
    "print('Test RMSLE:', testRMSLE)\n",
    "print('Train RMSLE:', trainRMSLE)\n",
    "performance_df.loc['KNN1'] = [testR2,trainR2,testRMSLE,trainRMSLE]\n",
    "\n",
    "test_pred9 = regressor8.predict(X_test)\n",
    "test_pred9[test_pred9<0]=0.1\n",
    "train_pred9 = regressor8.predict(X_train)\n",
    "train_pred9[train_pred9<0]=0.1\n",
    "\n",
    "testR2 = 'NA'\n",
    "trainR2 = 'NA'\n",
    "testRMSLE = RMSLE(y_test,test_pred9)\n",
    "trainRMSLE = RMSLE(y_train,train_pred9)\n",
    "print('Test RMSLE:', testRMSLE)\n",
    "print('Train RMSLE:', trainRMSLE)\n",
    "performance_df.loc['KNN8'] = [testR2,trainR2,testRMSLE,trainRMSLE]\n",
    "\n",
    "test_pred10 = regressor20.predict(X_test)\n",
    "test_pred10[test_pred10<0]=0.1\n",
    "train_pred10 = regressor20.predict(X_train)\n",
    "train_pred10[train_pred10<0]=0.1\n",
    "\n",
    "testR2 = 'NA'\n",
    "trainR2 = 'NA'\n",
    "testRMSLE = RMSLE(y_test,test_pred10)\n",
    "trainRMSLE = RMSLE(y_train,train_pred10)\n",
    "print('Test RMSLE:', testRMSLE)\n",
    "print('Train RMSLE:', trainRMSLE)\n",
    "performance_df.loc['KNN20'] = [testR2,trainR2,testRMSLE,trainRMSLE]"
   ]
  },
  {
   "cell_type": "code",
   "execution_count": 92,
   "metadata": {
    "_uuid": "e50b23a8d98289f20dea757089c3edb4dac92619"
   },
   "outputs": [
    {
     "data": {
      "text/html": [
       "<div>\n",
       "<style scoped>\n",
       "    .dataframe tbody tr th:only-of-type {\n",
       "        vertical-align: middle;\n",
       "    }\n",
       "\n",
       "    .dataframe tbody tr th {\n",
       "        vertical-align: top;\n",
       "    }\n",
       "\n",
       "    .dataframe thead th {\n",
       "        text-align: right;\n",
       "    }\n",
       "</style>\n",
       "<table border=\"1\" class=\"dataframe\">\n",
       "  <thead>\n",
       "    <tr style=\"text-align: right;\">\n",
       "      <th></th>\n",
       "      <th>Test R^2</th>\n",
       "      <th>Train R^2</th>\n",
       "      <th>Test RMSLE</th>\n",
       "      <th>Train RMSLE</th>\n",
       "    </tr>\n",
       "  </thead>\n",
       "  <tbody>\n",
       "    <tr>\n",
       "      <th>Num Feats</th>\n",
       "      <td>0.844516</td>\n",
       "      <td>0.789518</td>\n",
       "      <td>0.168047</td>\n",
       "      <td>0.514414</td>\n",
       "    </tr>\n",
       "    <tr>\n",
       "      <th>Cat Feats</th>\n",
       "      <td>0.741718</td>\n",
       "      <td>0.834726</td>\n",
       "      <td>1.27287</td>\n",
       "      <td>0.157287</td>\n",
       "    </tr>\n",
       "    <tr>\n",
       "      <th>All Feats</th>\n",
       "      <td>0.866264</td>\n",
       "      <td>0.895551</td>\n",
       "      <td>0.555638</td>\n",
       "      <td>0.127286</td>\n",
       "    </tr>\n",
       "    <tr>\n",
       "      <th>Reduced Feats</th>\n",
       "      <td>0.861198</td>\n",
       "      <td>0.892831</td>\n",
       "      <td>0.223749</td>\n",
       "      <td>0.126774</td>\n",
       "    </tr>\n",
       "    <tr>\n",
       "      <th>P Value Reduced</th>\n",
       "      <td>0.871036</td>\n",
       "      <td>0.877749</td>\n",
       "      <td>0.148285</td>\n",
       "      <td>0.141286</td>\n",
       "    </tr>\n",
       "    <tr>\n",
       "      <th>Lasso</th>\n",
       "      <td>0.89275</td>\n",
       "      <td>0.883532</td>\n",
       "      <td>0.134191</td>\n",
       "      <td>0.129689</td>\n",
       "    </tr>\n",
       "    <tr>\n",
       "      <th>Ridge</th>\n",
       "      <td>0.884372</td>\n",
       "      <td>0.844612</td>\n",
       "      <td>0.135862</td>\n",
       "      <td>0.139711</td>\n",
       "    </tr>\n",
       "    <tr>\n",
       "      <th>KNN1</th>\n",
       "      <td>NA</td>\n",
       "      <td>NA</td>\n",
       "      <td>0.243776</td>\n",
       "      <td>0.0017545</td>\n",
       "    </tr>\n",
       "    <tr>\n",
       "      <th>KNN8</th>\n",
       "      <td>NA</td>\n",
       "      <td>NA</td>\n",
       "      <td>0.189768</td>\n",
       "      <td>0.177647</td>\n",
       "    </tr>\n",
       "    <tr>\n",
       "      <th>KNN20</th>\n",
       "      <td>NA</td>\n",
       "      <td>NA</td>\n",
       "      <td>0.195273</td>\n",
       "      <td>0.198723</td>\n",
       "    </tr>\n",
       "  </tbody>\n",
       "</table>\n",
       "</div>"
      ],
      "text/plain": [
       "                 Test R^2 Train R^2 Test RMSLE Train RMSLE\n",
       "Num Feats        0.844516  0.789518   0.168047    0.514414\n",
       "Cat Feats        0.741718  0.834726    1.27287    0.157287\n",
       "All Feats        0.866264  0.895551   0.555638    0.127286\n",
       "Reduced Feats    0.861198  0.892831   0.223749    0.126774\n",
       "P Value Reduced  0.871036  0.877749   0.148285    0.141286\n",
       "Lasso             0.89275  0.883532   0.134191    0.129689\n",
       "Ridge            0.884372  0.844612   0.135862    0.139711\n",
       "KNN1                   NA        NA   0.243776   0.0017545\n",
       "KNN8                   NA        NA   0.189768    0.177647\n",
       "KNN20                  NA        NA   0.195273    0.198723"
      ]
     },
     "execution_count": 92,
     "metadata": {},
     "output_type": "execute_result"
    }
   ],
   "source": [
    "performance_df"
   ]
  },
  {
   "cell_type": "code",
   "execution_count": 93,
   "metadata": {
    "_uuid": "7934a1c181d34f2e35150ed1b6b42eef3d47a38a"
   },
   "outputs": [],
   "source": [
    "from sklearn.tree import DecisionTreeRegressor\n",
    "from sklearn.ensemble import RandomForestRegressor\n",
    "dtree = DecisionTreeRegressor()\n",
    "rf = RandomForestRegressor(n_estimators=500,max_features=20)"
   ]
  },
  {
   "cell_type": "code",
   "execution_count": 94,
   "metadata": {
    "_uuid": "c0e12ca81538fa4c69511dee390aad97501d6642"
   },
   "outputs": [
    {
     "data": {
      "text/plain": [
       "RandomForestRegressor(bootstrap=True, criterion='mse', max_depth=None,\n",
       "           max_features=20, max_leaf_nodes=None, min_impurity_decrease=0.0,\n",
       "           min_impurity_split=None, min_samples_leaf=1,\n",
       "           min_samples_split=2, min_weight_fraction_leaf=0.0,\n",
       "           n_estimators=500, n_jobs=None, oob_score=False,\n",
       "           random_state=None, verbose=0, warm_start=False)"
      ]
     },
     "execution_count": 94,
     "metadata": {},
     "output_type": "execute_result"
    }
   ],
   "source": [
    "X = combined_features\n",
    "y = target\n",
    "\n",
    "X_train, X_test, y_train, y_test = train_test_split(X,y,test_size=0.3, random_state=17)\n",
    "\n",
    "dtree.fit(X_train,y_train)\n",
    "rf.fit(X_train, y_train)"
   ]
  },
  {
   "cell_type": "code",
   "execution_count": 95,
   "metadata": {
    "_uuid": "e30b0cf12d0085d48f3d04ae2edbac98eff5ba2b"
   },
   "outputs": [
    {
     "name": "stdout",
     "output_type": "stream",
     "text": [
      "Test RMSLE: 0.20548820841111526\n",
      "Train RMSLE: 0.001240738609321724\n",
      "Test RMSLE: 0.1421746580293276\n",
      "Train RMSLE: 0.06194050642606629\n"
     ]
    }
   ],
   "source": [
    "test_pred11 = dtree.predict(X_test)\n",
    "test_pred11[test_pred11<0]=0.1\n",
    "train_pred11 = dtree.predict(X_train)\n",
    "train_pred11[train_pred11<0]=0.1\n",
    "\n",
    "testR2 = 'NA'\n",
    "trainR2 = 'NA'\n",
    "testRMSLE = RMSLE(y_test,test_pred11)\n",
    "trainRMSLE = RMSLE(y_train,train_pred11)\n",
    "print('Test RMSLE:', testRMSLE)\n",
    "print('Train RMSLE:', trainRMSLE)\n",
    "performance_df.loc['D Tree'] = [testR2,trainR2,testRMSLE,trainRMSLE]\n",
    "\n",
    "test_pred12 = rf.predict(X_test)\n",
    "test_pred12[test_pred12<0]=0.1\n",
    "train_pred12 = rf.predict(X_train)\n",
    "train_pred12[train_pred12<0]=0.1\n",
    "\n",
    "testR2 = 'NA'\n",
    "trainR2 = 'NA'\n",
    "testRMSLE = RMSLE(y_test,test_pred12)\n",
    "trainRMSLE = RMSLE(y_train,train_pred12)\n",
    "print('Test RMSLE:', testRMSLE)\n",
    "print('Train RMSLE:', trainRMSLE)\n",
    "performance_df.loc['Forest'] = [testR2,trainR2,testRMSLE,trainRMSLE]\n"
   ]
  },
  {
   "cell_type": "code",
   "execution_count": 96,
   "metadata": {
    "_uuid": "3fb4f1e41e34e102ddc719ecbd97d44fab5e4a77"
   },
   "outputs": [
    {
     "data": {
      "text/html": [
       "<div>\n",
       "<style scoped>\n",
       "    .dataframe tbody tr th:only-of-type {\n",
       "        vertical-align: middle;\n",
       "    }\n",
       "\n",
       "    .dataframe tbody tr th {\n",
       "        vertical-align: top;\n",
       "    }\n",
       "\n",
       "    .dataframe thead th {\n",
       "        text-align: right;\n",
       "    }\n",
       "</style>\n",
       "<table border=\"1\" class=\"dataframe\">\n",
       "  <thead>\n",
       "    <tr style=\"text-align: right;\">\n",
       "      <th></th>\n",
       "      <th>Test R^2</th>\n",
       "      <th>Train R^2</th>\n",
       "      <th>Test RMSLE</th>\n",
       "      <th>Train RMSLE</th>\n",
       "    </tr>\n",
       "  </thead>\n",
       "  <tbody>\n",
       "    <tr>\n",
       "      <th>Num Feats</th>\n",
       "      <td>0.844516</td>\n",
       "      <td>0.789518</td>\n",
       "      <td>0.168047</td>\n",
       "      <td>0.514414</td>\n",
       "    </tr>\n",
       "    <tr>\n",
       "      <th>Cat Feats</th>\n",
       "      <td>0.741718</td>\n",
       "      <td>0.834726</td>\n",
       "      <td>1.27287</td>\n",
       "      <td>0.157287</td>\n",
       "    </tr>\n",
       "    <tr>\n",
       "      <th>All Feats</th>\n",
       "      <td>0.866264</td>\n",
       "      <td>0.895551</td>\n",
       "      <td>0.555638</td>\n",
       "      <td>0.127286</td>\n",
       "    </tr>\n",
       "    <tr>\n",
       "      <th>Reduced Feats</th>\n",
       "      <td>0.861198</td>\n",
       "      <td>0.892831</td>\n",
       "      <td>0.223749</td>\n",
       "      <td>0.126774</td>\n",
       "    </tr>\n",
       "    <tr>\n",
       "      <th>P Value Reduced</th>\n",
       "      <td>0.871036</td>\n",
       "      <td>0.877749</td>\n",
       "      <td>0.148285</td>\n",
       "      <td>0.141286</td>\n",
       "    </tr>\n",
       "    <tr>\n",
       "      <th>Lasso</th>\n",
       "      <td>0.89275</td>\n",
       "      <td>0.883532</td>\n",
       "      <td>0.134191</td>\n",
       "      <td>0.129689</td>\n",
       "    </tr>\n",
       "    <tr>\n",
       "      <th>Ridge</th>\n",
       "      <td>0.884372</td>\n",
       "      <td>0.844612</td>\n",
       "      <td>0.135862</td>\n",
       "      <td>0.139711</td>\n",
       "    </tr>\n",
       "    <tr>\n",
       "      <th>KNN1</th>\n",
       "      <td>NA</td>\n",
       "      <td>NA</td>\n",
       "      <td>0.243776</td>\n",
       "      <td>0.0017545</td>\n",
       "    </tr>\n",
       "    <tr>\n",
       "      <th>KNN8</th>\n",
       "      <td>NA</td>\n",
       "      <td>NA</td>\n",
       "      <td>0.189768</td>\n",
       "      <td>0.177647</td>\n",
       "    </tr>\n",
       "    <tr>\n",
       "      <th>KNN20</th>\n",
       "      <td>NA</td>\n",
       "      <td>NA</td>\n",
       "      <td>0.195273</td>\n",
       "      <td>0.198723</td>\n",
       "    </tr>\n",
       "    <tr>\n",
       "      <th>D Tree</th>\n",
       "      <td>NA</td>\n",
       "      <td>NA</td>\n",
       "      <td>0.205488</td>\n",
       "      <td>0.00124074</td>\n",
       "    </tr>\n",
       "    <tr>\n",
       "      <th>Forest</th>\n",
       "      <td>NA</td>\n",
       "      <td>NA</td>\n",
       "      <td>0.142175</td>\n",
       "      <td>0.0619405</td>\n",
       "    </tr>\n",
       "  </tbody>\n",
       "</table>\n",
       "</div>"
      ],
      "text/plain": [
       "                 Test R^2 Train R^2 Test RMSLE Train RMSLE\n",
       "Num Feats        0.844516  0.789518   0.168047    0.514414\n",
       "Cat Feats        0.741718  0.834726    1.27287    0.157287\n",
       "All Feats        0.866264  0.895551   0.555638    0.127286\n",
       "Reduced Feats    0.861198  0.892831   0.223749    0.126774\n",
       "P Value Reduced  0.871036  0.877749   0.148285    0.141286\n",
       "Lasso             0.89275  0.883532   0.134191    0.129689\n",
       "Ridge            0.884372  0.844612   0.135862    0.139711\n",
       "KNN1                   NA        NA   0.243776   0.0017545\n",
       "KNN8                   NA        NA   0.189768    0.177647\n",
       "KNN20                  NA        NA   0.195273    0.198723\n",
       "D Tree                 NA        NA   0.205488  0.00124074\n",
       "Forest                 NA        NA   0.142175   0.0619405"
      ]
     },
     "execution_count": 96,
     "metadata": {},
     "output_type": "execute_result"
    }
   ],
   "source": [
    "performance_df"
   ]
  },
  {
   "cell_type": "markdown",
   "metadata": {
    "_uuid": "2a8084535ac42ba00095490bcc2eb60537e0a30c"
   },
   "source": [
    "As one last test, we'll remove the features that had no or minimal importance in the random forest and run a linear regression on just those features."
   ]
  },
  {
   "cell_type": "code",
   "execution_count": 97,
   "metadata": {
    "_uuid": "449dc2fa205de5a183a76e7541189024e1c4466f"
   },
   "outputs": [
    {
     "name": "stdout",
     "output_type": "stream",
     "text": [
      "24\n",
      "238\n",
      "['OverallQual', 'GrLivArea', 'TotalBsmtSF', 'GarageArea', '1stFlrSF', 'GarageCars', 'ExterQual_TA', 'BsmtFinSF1', 'YearBuilt', '2ndFlrSF', 'GarageYrBlt', 'YearRemodAdd', 'FullBath', 'LotArea', 'BsmtQual_Ex', 'KitchenQual_TA', 'TotRmsAbvGrd', 'LotFrontage', 'KitchenQual_Ex', 'Fireplaces', 'MasVnrArea', 'OpenPorchSF', 'FireplaceQu_None', 'Foundation_PConc']\n"
     ]
    }
   ],
   "source": [
    "features = combined_features.columns\n",
    "\n",
    "feature_importance = sorted(zip(map(lambda x: round(x, 4), rf.feature_importances_), features), \n",
    "             reverse=True)\n",
    "not_significant = []\n",
    "significant = []\n",
    "for feature in feature_importance:\n",
    "    if feature[0] < 0.01:\n",
    "        not_significant.append(feature[1])\n",
    "    else:\n",
    "        significant.append(feature[1])\n",
    "        \n",
    "print(len(significant))\n",
    "print(len(not_significant))\n",
    "print(significant)"
   ]
  },
  {
   "cell_type": "code",
   "execution_count": 98,
   "metadata": {
    "_uuid": "b714888b77292104d42406640a34b74874283761"
   },
   "outputs": [
    {
     "data": {
      "text/html": [
       "<div>\n",
       "<style scoped>\n",
       "    .dataframe tbody tr th:only-of-type {\n",
       "        vertical-align: middle;\n",
       "    }\n",
       "\n",
       "    .dataframe tbody tr th {\n",
       "        vertical-align: top;\n",
       "    }\n",
       "\n",
       "    .dataframe thead th {\n",
       "        text-align: right;\n",
       "    }\n",
       "</style>\n",
       "<table border=\"1\" class=\"dataframe\">\n",
       "  <thead>\n",
       "    <tr style=\"text-align: right;\">\n",
       "      <th></th>\n",
       "      <th>LotFrontage</th>\n",
       "      <th>LotArea</th>\n",
       "      <th>OverallQual</th>\n",
       "      <th>YearBuilt</th>\n",
       "      <th>YearRemodAdd</th>\n",
       "      <th>MasVnrArea</th>\n",
       "      <th>BsmtFinSF1</th>\n",
       "      <th>TotalBsmtSF</th>\n",
       "      <th>1stFlrSF</th>\n",
       "      <th>2ndFlrSF</th>\n",
       "      <th>GrLivArea</th>\n",
       "      <th>FullBath</th>\n",
       "      <th>TotRmsAbvGrd</th>\n",
       "      <th>Fireplaces</th>\n",
       "      <th>GarageYrBlt</th>\n",
       "      <th>GarageCars</th>\n",
       "      <th>GarageArea</th>\n",
       "      <th>OpenPorchSF</th>\n",
       "      <th>ExterQual_TA</th>\n",
       "      <th>Foundation_PConc</th>\n",
       "      <th>BsmtQual_Ex</th>\n",
       "      <th>KitchenQual_Ex</th>\n",
       "      <th>KitchenQual_TA</th>\n",
       "      <th>FireplaceQu_None</th>\n",
       "    </tr>\n",
       "  </thead>\n",
       "  <tbody>\n",
       "    <tr>\n",
       "      <th>0</th>\n",
       "      <td>65.0</td>\n",
       "      <td>8450</td>\n",
       "      <td>7</td>\n",
       "      <td>2003</td>\n",
       "      <td>2003</td>\n",
       "      <td>196.0</td>\n",
       "      <td>706</td>\n",
       "      <td>856</td>\n",
       "      <td>856</td>\n",
       "      <td>854</td>\n",
       "      <td>1710</td>\n",
       "      <td>2</td>\n",
       "      <td>8</td>\n",
       "      <td>0</td>\n",
       "      <td>2003.0</td>\n",
       "      <td>2</td>\n",
       "      <td>548</td>\n",
       "      <td>61</td>\n",
       "      <td>0</td>\n",
       "      <td>1</td>\n",
       "      <td>0</td>\n",
       "      <td>0</td>\n",
       "      <td>0</td>\n",
       "      <td>1</td>\n",
       "    </tr>\n",
       "    <tr>\n",
       "      <th>1</th>\n",
       "      <td>80.0</td>\n",
       "      <td>9600</td>\n",
       "      <td>6</td>\n",
       "      <td>1976</td>\n",
       "      <td>1976</td>\n",
       "      <td>0.0</td>\n",
       "      <td>978</td>\n",
       "      <td>1262</td>\n",
       "      <td>1262</td>\n",
       "      <td>0</td>\n",
       "      <td>1262</td>\n",
       "      <td>2</td>\n",
       "      <td>6</td>\n",
       "      <td>1</td>\n",
       "      <td>1976.0</td>\n",
       "      <td>2</td>\n",
       "      <td>460</td>\n",
       "      <td>0</td>\n",
       "      <td>1</td>\n",
       "      <td>0</td>\n",
       "      <td>0</td>\n",
       "      <td>0</td>\n",
       "      <td>1</td>\n",
       "      <td>0</td>\n",
       "    </tr>\n",
       "    <tr>\n",
       "      <th>2</th>\n",
       "      <td>68.0</td>\n",
       "      <td>11250</td>\n",
       "      <td>7</td>\n",
       "      <td>2001</td>\n",
       "      <td>2002</td>\n",
       "      <td>162.0</td>\n",
       "      <td>486</td>\n",
       "      <td>920</td>\n",
       "      <td>920</td>\n",
       "      <td>866</td>\n",
       "      <td>1786</td>\n",
       "      <td>2</td>\n",
       "      <td>6</td>\n",
       "      <td>1</td>\n",
       "      <td>2001.0</td>\n",
       "      <td>2</td>\n",
       "      <td>608</td>\n",
       "      <td>42</td>\n",
       "      <td>0</td>\n",
       "      <td>1</td>\n",
       "      <td>0</td>\n",
       "      <td>0</td>\n",
       "      <td>0</td>\n",
       "      <td>0</td>\n",
       "    </tr>\n",
       "    <tr>\n",
       "      <th>3</th>\n",
       "      <td>60.0</td>\n",
       "      <td>9550</td>\n",
       "      <td>7</td>\n",
       "      <td>1915</td>\n",
       "      <td>1970</td>\n",
       "      <td>0.0</td>\n",
       "      <td>216</td>\n",
       "      <td>756</td>\n",
       "      <td>961</td>\n",
       "      <td>756</td>\n",
       "      <td>1717</td>\n",
       "      <td>1</td>\n",
       "      <td>7</td>\n",
       "      <td>1</td>\n",
       "      <td>1998.0</td>\n",
       "      <td>3</td>\n",
       "      <td>642</td>\n",
       "      <td>35</td>\n",
       "      <td>1</td>\n",
       "      <td>0</td>\n",
       "      <td>0</td>\n",
       "      <td>0</td>\n",
       "      <td>0</td>\n",
       "      <td>0</td>\n",
       "    </tr>\n",
       "    <tr>\n",
       "      <th>4</th>\n",
       "      <td>84.0</td>\n",
       "      <td>14260</td>\n",
       "      <td>8</td>\n",
       "      <td>2000</td>\n",
       "      <td>2000</td>\n",
       "      <td>350.0</td>\n",
       "      <td>655</td>\n",
       "      <td>1145</td>\n",
       "      <td>1145</td>\n",
       "      <td>1053</td>\n",
       "      <td>2198</td>\n",
       "      <td>2</td>\n",
       "      <td>9</td>\n",
       "      <td>1</td>\n",
       "      <td>2000.0</td>\n",
       "      <td>3</td>\n",
       "      <td>836</td>\n",
       "      <td>84</td>\n",
       "      <td>0</td>\n",
       "      <td>1</td>\n",
       "      <td>0</td>\n",
       "      <td>0</td>\n",
       "      <td>0</td>\n",
       "      <td>0</td>\n",
       "    </tr>\n",
       "  </tbody>\n",
       "</table>\n",
       "</div>"
      ],
      "text/plain": [
       "   LotFrontage  LotArea        ...         KitchenQual_TA  FireplaceQu_None\n",
       "0         65.0     8450        ...                      0                 1\n",
       "1         80.0     9600        ...                      1                 0\n",
       "2         68.0    11250        ...                      0                 0\n",
       "3         60.0     9550        ...                      0                 0\n",
       "4         84.0    14260        ...                      0                 0\n",
       "\n",
       "[5 rows x 24 columns]"
      ]
     },
     "execution_count": 98,
     "metadata": {},
     "output_type": "execute_result"
    }
   ],
   "source": [
    "dt_feature_importance = combined_features.copy()\n",
    "for x in combined_features.columns:\n",
    "    if x not in significant:\n",
    "        dt_feature_importance.drop(x,axis=1,inplace=True)\n",
    "        \n",
    "dt_feature_importance.head()"
   ]
  },
  {
   "cell_type": "code",
   "execution_count": 99,
   "metadata": {
    "_uuid": "1c06048f503568d764c3dbf430ff8c05894356f0"
   },
   "outputs": [
    {
     "data": {
      "text/plain": [
       "LinearRegression(copy_X=True, fit_intercept=True, n_jobs=None,\n",
       "         normalize=False)"
      ]
     },
     "execution_count": 99,
     "metadata": {},
     "output_type": "execute_result"
    }
   ],
   "source": [
    "X = dt_feature_importance\n",
    "y = target\n",
    "\n",
    "X_train, X_test, y_train, y_test = train_test_split(X,y,test_size=0.3, random_state=17)\n",
    "feature_importance_model = linear_model.LinearRegression()\n",
    "feature_importance_model.fit(X_train,y_train)"
   ]
  },
  {
   "cell_type": "code",
   "execution_count": 100,
   "metadata": {
    "_uuid": "d7685174f42ac4ec6f3d5c11be77083cfb06bfe2"
   },
   "outputs": [
    {
     "name": "stdout",
     "output_type": "stream",
     "text": [
      "Test R^2: 0.857916744694458\n",
      "Train R^2: 0.8067525364659273\n",
      "Test RMSLE: 0.15407177461016713\n",
      "Train RMSLE: 0.16932390926749902\n"
     ]
    }
   ],
   "source": [
    "test_pred13 = feature_importance_model.predict(X_test)\n",
    "test_pred13[test_pred13 < 0] = 0.1\n",
    "train_pred13 = feature_importance_model.predict(X_train)\n",
    "train_pred13[train_pred13 < 0] = 0.1\n",
    "\n",
    "testR2 = r2_score(y_test, test_pred13)\n",
    "trainR2 = r2_score(y_train, train_pred13)\n",
    "testRMSLE = RMSLE(y_test,test_pred13)\n",
    "trainRMSLE = RMSLE(y_train,train_pred13)\n",
    "print('Test R^2:' ,testR2)\n",
    "print('Train R^2:',trainR2)\n",
    "print('Test RMSLE:', testRMSLE)\n",
    "print('Train RMSLE:', trainRMSLE)\n",
    "performance_df.loc['Tree Importance'] = [testR2,trainR2,testRMSLE,trainRMSLE]"
   ]
  },
  {
   "cell_type": "code",
   "execution_count": 101,
   "metadata": {
    "_uuid": "6d58ac99722d9598be352ccc193c78db61b42be4"
   },
   "outputs": [
    {
     "data": {
      "text/html": [
       "<div>\n",
       "<style scoped>\n",
       "    .dataframe tbody tr th:only-of-type {\n",
       "        vertical-align: middle;\n",
       "    }\n",
       "\n",
       "    .dataframe tbody tr th {\n",
       "        vertical-align: top;\n",
       "    }\n",
       "\n",
       "    .dataframe thead th {\n",
       "        text-align: right;\n",
       "    }\n",
       "</style>\n",
       "<table border=\"1\" class=\"dataframe\">\n",
       "  <thead>\n",
       "    <tr style=\"text-align: right;\">\n",
       "      <th></th>\n",
       "      <th>Test R^2</th>\n",
       "      <th>Train R^2</th>\n",
       "      <th>Test RMSLE</th>\n",
       "      <th>Train RMSLE</th>\n",
       "    </tr>\n",
       "  </thead>\n",
       "  <tbody>\n",
       "    <tr>\n",
       "      <th>Num Feats</th>\n",
       "      <td>0.844516</td>\n",
       "      <td>0.789518</td>\n",
       "      <td>0.168047</td>\n",
       "      <td>0.514414</td>\n",
       "    </tr>\n",
       "    <tr>\n",
       "      <th>Cat Feats</th>\n",
       "      <td>0.741718</td>\n",
       "      <td>0.834726</td>\n",
       "      <td>1.27287</td>\n",
       "      <td>0.157287</td>\n",
       "    </tr>\n",
       "    <tr>\n",
       "      <th>All Feats</th>\n",
       "      <td>0.866264</td>\n",
       "      <td>0.895551</td>\n",
       "      <td>0.555638</td>\n",
       "      <td>0.127286</td>\n",
       "    </tr>\n",
       "    <tr>\n",
       "      <th>Reduced Feats</th>\n",
       "      <td>0.861198</td>\n",
       "      <td>0.892831</td>\n",
       "      <td>0.223749</td>\n",
       "      <td>0.126774</td>\n",
       "    </tr>\n",
       "    <tr>\n",
       "      <th>P Value Reduced</th>\n",
       "      <td>0.871036</td>\n",
       "      <td>0.877749</td>\n",
       "      <td>0.148285</td>\n",
       "      <td>0.141286</td>\n",
       "    </tr>\n",
       "    <tr>\n",
       "      <th>Lasso</th>\n",
       "      <td>0.89275</td>\n",
       "      <td>0.883532</td>\n",
       "      <td>0.134191</td>\n",
       "      <td>0.129689</td>\n",
       "    </tr>\n",
       "    <tr>\n",
       "      <th>Ridge</th>\n",
       "      <td>0.884372</td>\n",
       "      <td>0.844612</td>\n",
       "      <td>0.135862</td>\n",
       "      <td>0.139711</td>\n",
       "    </tr>\n",
       "    <tr>\n",
       "      <th>KNN1</th>\n",
       "      <td>NA</td>\n",
       "      <td>NA</td>\n",
       "      <td>0.243776</td>\n",
       "      <td>0.0017545</td>\n",
       "    </tr>\n",
       "    <tr>\n",
       "      <th>KNN8</th>\n",
       "      <td>NA</td>\n",
       "      <td>NA</td>\n",
       "      <td>0.189768</td>\n",
       "      <td>0.177647</td>\n",
       "    </tr>\n",
       "    <tr>\n",
       "      <th>KNN20</th>\n",
       "      <td>NA</td>\n",
       "      <td>NA</td>\n",
       "      <td>0.195273</td>\n",
       "      <td>0.198723</td>\n",
       "    </tr>\n",
       "    <tr>\n",
       "      <th>D Tree</th>\n",
       "      <td>NA</td>\n",
       "      <td>NA</td>\n",
       "      <td>0.205488</td>\n",
       "      <td>0.00124074</td>\n",
       "    </tr>\n",
       "    <tr>\n",
       "      <th>Forest</th>\n",
       "      <td>NA</td>\n",
       "      <td>NA</td>\n",
       "      <td>0.142175</td>\n",
       "      <td>0.0619405</td>\n",
       "    </tr>\n",
       "    <tr>\n",
       "      <th>Tree Importance</th>\n",
       "      <td>0.857917</td>\n",
       "      <td>0.806753</td>\n",
       "      <td>0.154072</td>\n",
       "      <td>0.169324</td>\n",
       "    </tr>\n",
       "  </tbody>\n",
       "</table>\n",
       "</div>"
      ],
      "text/plain": [
       "                 Test R^2 Train R^2 Test RMSLE Train RMSLE\n",
       "Num Feats        0.844516  0.789518   0.168047    0.514414\n",
       "Cat Feats        0.741718  0.834726    1.27287    0.157287\n",
       "All Feats        0.866264  0.895551   0.555638    0.127286\n",
       "Reduced Feats    0.861198  0.892831   0.223749    0.126774\n",
       "P Value Reduced  0.871036  0.877749   0.148285    0.141286\n",
       "Lasso             0.89275  0.883532   0.134191    0.129689\n",
       "Ridge            0.884372  0.844612   0.135862    0.139711\n",
       "KNN1                   NA        NA   0.243776   0.0017545\n",
       "KNN8                   NA        NA   0.189768    0.177647\n",
       "KNN20                  NA        NA   0.195273    0.198723\n",
       "D Tree                 NA        NA   0.205488  0.00124074\n",
       "Forest                 NA        NA   0.142175   0.0619405\n",
       "Tree Importance  0.857917  0.806753   0.154072    0.169324"
      ]
     },
     "execution_count": 101,
     "metadata": {},
     "output_type": "execute_result"
    }
   ],
   "source": [
    "performance_df"
   ]
  },
  {
   "cell_type": "markdown",
   "metadata": {
    "_uuid": "3baab04ab90c7dc6eea6eef1f985e6c75f4a712e"
   },
   "source": [
    "The Lasso Model performed the best, lets predict on the real test data with the lasso model"
   ]
  },
  {
   "cell_type": "code",
   "execution_count": 102,
   "metadata": {
    "_uuid": "dc77de261d0b2fee8726720e183b85b4fc10f808"
   },
   "outputs": [
    {
     "name": "stdout",
     "output_type": "stream",
     "text": [
      "<class 'pandas.core.frame.DataFrame'>\n",
      "RangeIndex: 1459 entries, 0 to 1458\n",
      "Data columns (total 71 columns):\n",
      "Id               1459 non-null int64\n",
      "MSSubClass       1459 non-null int64\n",
      "MSZoning         1455 non-null object\n",
      "LotFrontage      1232 non-null float64\n",
      "LotArea          1459 non-null int64\n",
      "LotShape         1459 non-null object\n",
      "LandContour      1459 non-null object\n",
      "LotConfig        1459 non-null object\n",
      "LandSlope        1459 non-null object\n",
      "Neighborhood     1459 non-null object\n",
      "Condition1       1459 non-null object\n",
      "BldgType         1459 non-null object\n",
      "HouseStyle       1459 non-null object\n",
      "OverallQual      1459 non-null int64\n",
      "OverallCond      1459 non-null int64\n",
      "YearBuilt        1459 non-null int64\n",
      "YearRemodAdd     1459 non-null int64\n",
      "RoofStyle        1459 non-null object\n",
      "Exterior1st      1458 non-null object\n",
      "Exterior2nd      1458 non-null object\n",
      "MasVnrType       1443 non-null object\n",
      "MasVnrArea       1444 non-null float64\n",
      "ExterQual        1459 non-null object\n",
      "ExterCond        1459 non-null object\n",
      "Foundation       1459 non-null object\n",
      "BsmtQual         1415 non-null object\n",
      "BsmtCond         1414 non-null object\n",
      "BsmtExposure     1415 non-null object\n",
      "BsmtFinType1     1417 non-null object\n",
      "BsmtFinSF1       1458 non-null float64\n",
      "BsmtFinType2     1417 non-null object\n",
      "BsmtFinSF2       1458 non-null float64\n",
      "BsmtUnfSF        1458 non-null float64\n",
      "TotalBsmtSF      1458 non-null float64\n",
      "HeatingQC        1459 non-null object\n",
      "CentralAir       1459 non-null object\n",
      "Electrical       1459 non-null object\n",
      "1stFlrSF         1459 non-null int64\n",
      "2ndFlrSF         1459 non-null int64\n",
      "LowQualFinSF     1459 non-null int64\n",
      "GrLivArea        1459 non-null int64\n",
      "BsmtFullBath     1457 non-null float64\n",
      "BsmtHalfBath     1457 non-null float64\n",
      "FullBath         1459 non-null int64\n",
      "HalfBath         1459 non-null int64\n",
      "BedroomAbvGr     1459 non-null int64\n",
      "KitchenAbvGr     1459 non-null int64\n",
      "KitchenQual      1458 non-null object\n",
      "TotRmsAbvGrd     1459 non-null int64\n",
      "Functional       1457 non-null object\n",
      "Fireplaces       1459 non-null int64\n",
      "FireplaceQu      729 non-null object\n",
      "GarageType       1383 non-null object\n",
      "GarageYrBlt      1381 non-null float64\n",
      "GarageFinish     1381 non-null object\n",
      "GarageCars       1458 non-null float64\n",
      "GarageArea       1458 non-null float64\n",
      "GarageQual       1381 non-null object\n",
      "GarageCond       1381 non-null object\n",
      "PavedDrive       1459 non-null object\n",
      "WoodDeckSF       1459 non-null int64\n",
      "OpenPorchSF      1459 non-null int64\n",
      "EnclosedPorch    1459 non-null int64\n",
      "3SsnPorch        1459 non-null int64\n",
      "ScreenPorch      1459 non-null int64\n",
      "PoolArea         1459 non-null int64\n",
      "MiscVal          1459 non-null int64\n",
      "MoSold           1459 non-null int64\n",
      "YrSold           1459 non-null int64\n",
      "SaleType         1458 non-null object\n",
      "SaleCondition    1459 non-null object\n",
      "dtypes: float64(11), int64(26), object(34)\n",
      "memory usage: 809.4+ KB\n"
     ]
    }
   ],
   "source": [
    "test.info()"
   ]
  },
  {
   "cell_type": "code",
   "execution_count": 103,
   "metadata": {
    "_uuid": "7f7d7b4865c3e1ac2bc21a37eaad760cdbffe9da"
   },
   "outputs": [
    {
     "name": "stdout",
     "output_type": "stream",
     "text": [
      "<class 'pandas.core.frame.DataFrame'>\n",
      "RangeIndex: 1459 entries, 0 to 1458\n",
      "Data columns (total 31 columns):\n",
      "LotFrontage     1232 non-null float64\n",
      "LotArea         1459 non-null int64\n",
      "OverallQual     1459 non-null int64\n",
      "OverallCond     1459 non-null int64\n",
      "YearBuilt       1459 non-null int64\n",
      "YearRemodAdd    1459 non-null int64\n",
      "MasVnrArea      1444 non-null float64\n",
      "BsmtFinSF1      1458 non-null float64\n",
      "BsmtFinSF2      1458 non-null float64\n",
      "BsmtUnfSF       1458 non-null float64\n",
      "TotalBsmtSF     1458 non-null float64\n",
      "1stFlrSF        1459 non-null int64\n",
      "2ndFlrSF        1459 non-null int64\n",
      "LowQualFinSF    1459 non-null int64\n",
      "GrLivArea       1459 non-null int64\n",
      "BsmtFullBath    1457 non-null float64\n",
      "BsmtHalfBath    1457 non-null float64\n",
      "FullBath        1459 non-null int64\n",
      "HalfBath        1459 non-null int64\n",
      "BedroomAbvGr    1459 non-null int64\n",
      "KitchenAbvGr    1459 non-null int64\n",
      "TotRmsAbvGrd    1459 non-null int64\n",
      "Fireplaces      1459 non-null int64\n",
      "GarageYrBlt     1381 non-null float64\n",
      "GarageCars      1458 non-null float64\n",
      "GarageArea      1458 non-null float64\n",
      "WoodDeckSF      1459 non-null int64\n",
      "OpenPorchSF     1459 non-null int64\n",
      "ScreenPorch     1459 non-null int64\n",
      "PoolArea        1459 non-null int64\n",
      "YrSold          1459 non-null int64\n",
      "dtypes: float64(11), int64(20)\n",
      "memory usage: 353.4 KB\n"
     ]
    }
   ],
   "source": [
    "test_numeric_features.info()"
   ]
  },
  {
   "cell_type": "code",
   "execution_count": 104,
   "metadata": {
    "_uuid": "fb25a373368909852bbea4f75792a804bfedab22"
   },
   "outputs": [],
   "source": [
    "factor_col = test_numeric_features['LotArea'] / test_numeric_features['LotFrontage']\n",
    "factor = factor_col.mean()\n",
    "\n",
    "for row in test_numeric_features.index:\n",
    "    area = test_numeric_features.loc[row,'LotArea']\n",
    "    frontage = test_numeric_features.loc[row,'LotFrontage']\n",
    "    if pd.isnull(frontage):\n",
    "        test_numeric_features.loc[row,'LotFrontage'] = area / factor\n",
    "        \n",
    "mean_MasVnr = test_numeric_features['MasVnrArea'].mean()\n",
    "for row in test_numeric_features.index:\n",
    "    vnr = test_numeric_features.loc[row,'MasVnrArea']\n",
    "    if pd.isnull(vnr):\n",
    "        test_numeric_features.loc[row,'MasVnrArea']= mean_MasVnr        \n",
    "\n",
    "for row in test_numeric_features.index:\n",
    "    if pd.isnull(test_numeric_features.loc[row,'GarageYrBlt']):\n",
    "        test_numeric_features.loc[row,'GarageYrBlt'] =  test_numeric_features.loc[row,'YearBuilt']\n",
    "\n",
    "test_numeric_features = test_numeric_features.fillna(0)\n",
    "test_categorical_features = test_categorical_features.fillna('None')"
   ]
  },
  {
   "cell_type": "code",
   "execution_count": 105,
   "metadata": {
    "_uuid": "4721578d31eeb217ef10846753b0f887b946b07f"
   },
   "outputs": [
    {
     "name": "stdout",
     "output_type": "stream",
     "text": [
      "<class 'pandas.core.frame.DataFrame'>\n",
      "RangeIndex: 1459 entries, 0 to 1458\n",
      "Data columns (total 35 columns):\n",
      "MSZoning         1459 non-null object\n",
      "LotShape         1459 non-null object\n",
      "LandContour      1459 non-null object\n",
      "LotConfig        1459 non-null object\n",
      "LandSlope        1459 non-null object\n",
      "Neighborhood     1459 non-null object\n",
      "Condition1       1459 non-null object\n",
      "BldgType         1459 non-null object\n",
      "HouseStyle       1459 non-null object\n",
      "RoofStyle        1459 non-null object\n",
      "Exterior1st      1459 non-null object\n",
      "Exterior2nd      1459 non-null object\n",
      "MasVnrType       1459 non-null object\n",
      "ExterQual        1459 non-null object\n",
      "ExterCond        1459 non-null object\n",
      "Foundation       1459 non-null object\n",
      "BsmtQual         1459 non-null object\n",
      "BsmtCond         1459 non-null object\n",
      "BsmtExposure     1459 non-null object\n",
      "BsmtFinType1     1459 non-null object\n",
      "BsmtFinType2     1459 non-null object\n",
      "HeatingQC        1459 non-null object\n",
      "CentralAir       1459 non-null object\n",
      "Electrical       1459 non-null object\n",
      "KitchenQual      1459 non-null object\n",
      "Functional       1459 non-null object\n",
      "FireplaceQu      1459 non-null object\n",
      "GarageType       1459 non-null object\n",
      "GarageFinish     1459 non-null object\n",
      "GarageQual       1459 non-null object\n",
      "GarageCond       1459 non-null object\n",
      "PavedDrive       1459 non-null object\n",
      "SaleType         1459 non-null object\n",
      "SaleCondition    1459 non-null object\n",
      "MSSubClass       1459 non-null int64\n",
      "dtypes: int64(1), object(34)\n",
      "memory usage: 399.0+ KB\n"
     ]
    }
   ],
   "source": [
    "test_categorical_features.info()"
   ]
  },
  {
   "cell_type": "code",
   "execution_count": 106,
   "metadata": {
    "_uuid": "1cc93b36cb7bbe12c76b7937e83013dc6ccfaccf"
   },
   "outputs": [
    {
     "name": "stdout",
     "output_type": "stream",
     "text": [
      "262\n",
      "262\n",
      "LotFrontage              0\n",
      "LotArea                  0\n",
      "OverallQual              0\n",
      "OverallCond              0\n",
      "YearBuilt                0\n",
      "YearRemodAdd             0\n",
      "MasVnrArea               0\n",
      "BsmtFinSF1               0\n",
      "BsmtFinSF2               0\n",
      "BsmtUnfSF                0\n",
      "TotalBsmtSF              0\n",
      "1stFlrSF                 0\n",
      "2ndFlrSF                 0\n",
      "LowQualFinSF             0\n",
      "GrLivArea                0\n",
      "BsmtFullBath             0\n",
      "BsmtHalfBath             0\n",
      "FullBath                 0\n",
      "HalfBath                 0\n",
      "BedroomAbvGr             0\n",
      "KitchenAbvGr             0\n",
      "TotRmsAbvGrd             0\n",
      "Fireplaces               0\n",
      "GarageYrBlt              0\n",
      "GarageCars               0\n",
      "GarageArea               0\n",
      "WoodDeckSF               0\n",
      "OpenPorchSF              0\n",
      "ScreenPorch              0\n",
      "PoolArea                 0\n",
      "                        ..\n",
      "GarageCond_Gd            0\n",
      "GarageCond_None          0\n",
      "GarageCond_Po            0\n",
      "GarageCond_TA            0\n",
      "PavedDrive_N             0\n",
      "PavedDrive_P             0\n",
      "PavedDrive_Y             0\n",
      "SaleType_COD             0\n",
      "SaleType_CWD             0\n",
      "SaleType_Con             0\n",
      "SaleType_ConLD           0\n",
      "SaleType_ConLI           0\n",
      "SaleType_ConLw           0\n",
      "SaleType_New             0\n",
      "SaleType_None            0\n",
      "SaleType_Oth             0\n",
      "SaleType_WD              0\n",
      "SaleCondition_Abnorml    0\n",
      "SaleCondition_AdjLand    0\n",
      "SaleCondition_Alloca     0\n",
      "SaleCondition_Family     0\n",
      "SaleCondition_Normal     0\n",
      "SaleCondition_Partial    0\n",
      "HouseStyle_2.5Fin        0\n",
      "Exterior1st_ImStucc      0\n",
      "Exterior1st_Stone        0\n",
      "Exterior2nd_Other        0\n",
      "Electrical_Mix           0\n",
      "Electrical_None          0\n",
      "GarageQual_Ex            0\n",
      "Length: 262, dtype: int64\n"
     ]
    }
   ],
   "source": [
    "final_test_features=pd.concat([test_numeric_features,test_categorical_dummies],axis=1)\n",
    "print(len(final_test_features.columns))\n",
    "print(len(combined_features.columns))\n",
    "print(final_test_features.isna().sum())"
   ]
  },
  {
   "cell_type": "code",
   "execution_count": 107,
   "metadata": {
    "_uuid": "44f2ecff44ee462a0bbb54615a7fa42725c9a969"
   },
   "outputs": [],
   "source": [
    "final_predictions_lasso = lasso.predict(final_test_features)\n",
    "final_predictions_ridge = ridge.predict(final_test_features)\n",
    "final_predictions_rf = rf.predict(final_test_features)"
   ]
  },
  {
   "cell_type": "code",
   "execution_count": 108,
   "metadata": {
    "_uuid": "659c47edf46f671678b72d376f658d3441bc9439"
   },
   "outputs": [
    {
     "name": "stdout",
     "output_type": "stream",
     "text": [
      "161204.55928098908\n",
      "454633.8831163156\n",
      "-1200.956844464934\n"
     ]
    }
   ],
   "source": [
    "print(final_predictions_lasso.mean())\n",
    "print(final_predictions_lasso.max())\n",
    "print(final_predictions_lasso.min())"
   ]
  },
  {
   "cell_type": "code",
   "execution_count": 109,
   "metadata": {
    "_uuid": "9cfe2995486f60d99d04ea9014c050aa6eef04fd"
   },
   "outputs": [
    {
     "name": "stdout",
     "output_type": "stream",
     "text": [
      "173019.23962328862\n",
      "564038.5966367645\n",
      "13536.83535747818\n"
     ]
    }
   ],
   "source": [
    "print(final_predictions_ridge.mean())\n",
    "print(final_predictions_ridge.max())\n",
    "print(final_predictions_ridge.min())"
   ]
  },
  {
   "cell_type": "code",
   "execution_count": 110,
   "metadata": {
    "_uuid": "ede8ccad0cfe7c2431b3590ada47b7bbf72dbb82"
   },
   "outputs": [
    {
     "name": "stdout",
     "output_type": "stream",
     "text": [
      "171300.6171309116\n",
      "384811.336\n",
      "97662.674\n"
     ]
    }
   ],
   "source": [
    "print(final_predictions_rf.mean())\n",
    "print(final_predictions_rf.max())\n",
    "print(final_predictions_rf.min())"
   ]
  },
  {
   "cell_type": "code",
   "execution_count": 111,
   "metadata": {
    "_uuid": "658a83c3b9e52a8fc01f18ad9079885f1bc23162"
   },
   "outputs": [
    {
     "data": {
      "text/plain": [
       "Index(['Id', 'MSSubClass', 'MSZoning', 'LotFrontage', 'LotArea', 'LotShape',\n",
       "       'LandContour', 'LotConfig', 'LandSlope', 'Neighborhood', 'Condition1',\n",
       "       'BldgType', 'HouseStyle', 'OverallQual', 'OverallCond', 'YearBuilt',\n",
       "       'YearRemodAdd', 'RoofStyle', 'Exterior1st', 'Exterior2nd', 'MasVnrType',\n",
       "       'MasVnrArea', 'ExterQual', 'ExterCond', 'Foundation', 'BsmtQual',\n",
       "       'BsmtCond', 'BsmtExposure', 'BsmtFinType1', 'BsmtFinSF1',\n",
       "       'BsmtFinType2', 'BsmtFinSF2', 'BsmtUnfSF', 'TotalBsmtSF', 'HeatingQC',\n",
       "       'CentralAir', 'Electrical', '1stFlrSF', '2ndFlrSF', 'LowQualFinSF',\n",
       "       'GrLivArea', 'BsmtFullBath', 'BsmtHalfBath', 'FullBath', 'HalfBath',\n",
       "       'BedroomAbvGr', 'KitchenAbvGr', 'KitchenQual', 'TotRmsAbvGrd',\n",
       "       'Functional', 'Fireplaces', 'FireplaceQu', 'GarageType', 'GarageYrBlt',\n",
       "       'GarageFinish', 'GarageCars', 'GarageArea', 'GarageQual', 'GarageCond',\n",
       "       'PavedDrive', 'WoodDeckSF', 'OpenPorchSF', 'EnclosedPorch', '3SsnPorch',\n",
       "       'ScreenPorch', 'PoolArea', 'MiscVal', 'MoSold', 'YrSold', 'SaleType',\n",
       "       'SaleCondition'],\n",
       "      dtype='object')"
      ]
     },
     "execution_count": 111,
     "metadata": {},
     "output_type": "execute_result"
    }
   ],
   "source": [
    "test.columns"
   ]
  },
  {
   "cell_type": "code",
   "execution_count": 112,
   "metadata": {
    "_uuid": "d9a9184c46839bfc63cc737cc7cdf28e231ce121"
   },
   "outputs": [],
   "source": [
    "predictions_rf = pd.DataFrame(data=final_predictions_rf,index=test['Id'],columns=['SalePrice'])\n",
    "predictions_lasso = pd.DataFrame(data=final_predictions_lasso,index=test['Id'],columns=['SalePrice'])\n",
    "predictions_ridge = pd.DataFrame(data=final_predictions_ridge,index=test['Id'],columns=['SalePrice'])\n"
   ]
  },
  {
   "cell_type": "code",
   "execution_count": 113,
   "metadata": {
    "_uuid": "0627a020908c135d4835ecc76a1e799c6d202cff"
   },
   "outputs": [],
   "source": [
    "predictions_lasso.to_csv('lasso predictions.csv')\n",
    "predictions_ridge.to_csv('ridge predictions.csv')\n",
    "predictions_rf.to_csv('rf predictions.csv')"
   ]
  },
  {
   "cell_type": "code",
   "execution_count": 114,
   "metadata": {
    "_uuid": "c56f981140cad7002383d4ce5637c44ff6145bc0"
   },
   "outputs": [
    {
     "name": "stdout",
     "output_type": "stream",
     "text": [
      "<class 'pandas.core.frame.DataFrame'>\n",
      "RangeIndex: 1460 entries, 0 to 1459\n",
      "Data columns (total 72 columns):\n",
      "Id               1460 non-null int64\n",
      "MSSubClass       1460 non-null int64\n",
      "MSZoning         1460 non-null object\n",
      "LotFrontage      1201 non-null float64\n",
      "LotArea          1460 non-null int64\n",
      "LotShape         1460 non-null object\n",
      "LandContour      1460 non-null object\n",
      "LotConfig        1460 non-null object\n",
      "LandSlope        1460 non-null object\n",
      "Neighborhood     1460 non-null object\n",
      "Condition1       1460 non-null object\n",
      "BldgType         1460 non-null object\n",
      "HouseStyle       1460 non-null object\n",
      "OverallQual      1460 non-null int64\n",
      "OverallCond      1460 non-null int64\n",
      "YearBuilt        1460 non-null int64\n",
      "YearRemodAdd     1460 non-null int64\n",
      "RoofStyle        1460 non-null object\n",
      "Exterior1st      1460 non-null object\n",
      "Exterior2nd      1460 non-null object\n",
      "MasVnrType       1452 non-null object\n",
      "MasVnrArea       1452 non-null float64\n",
      "ExterQual        1460 non-null object\n",
      "ExterCond        1460 non-null object\n",
      "Foundation       1460 non-null object\n",
      "BsmtQual         1423 non-null object\n",
      "BsmtCond         1423 non-null object\n",
      "BsmtExposure     1422 non-null object\n",
      "BsmtFinType1     1423 non-null object\n",
      "BsmtFinSF1       1460 non-null int64\n",
      "BsmtFinType2     1422 non-null object\n",
      "BsmtFinSF2       1460 non-null int64\n",
      "BsmtUnfSF        1460 non-null int64\n",
      "TotalBsmtSF      1460 non-null int64\n",
      "HeatingQC        1460 non-null object\n",
      "CentralAir       1460 non-null object\n",
      "Electrical       1459 non-null object\n",
      "1stFlrSF         1460 non-null int64\n",
      "2ndFlrSF         1460 non-null int64\n",
      "LowQualFinSF     1460 non-null int64\n",
      "GrLivArea        1460 non-null int64\n",
      "BsmtFullBath     1460 non-null int64\n",
      "BsmtHalfBath     1460 non-null int64\n",
      "FullBath         1460 non-null int64\n",
      "HalfBath         1460 non-null int64\n",
      "BedroomAbvGr     1460 non-null int64\n",
      "KitchenAbvGr     1460 non-null int64\n",
      "KitchenQual      1460 non-null object\n",
      "TotRmsAbvGrd     1460 non-null int64\n",
      "Functional       1460 non-null object\n",
      "Fireplaces       1460 non-null int64\n",
      "FireplaceQu      770 non-null object\n",
      "GarageType       1379 non-null object\n",
      "GarageYrBlt      1379 non-null float64\n",
      "GarageFinish     1379 non-null object\n",
      "GarageCars       1460 non-null int64\n",
      "GarageArea       1460 non-null int64\n",
      "GarageQual       1379 non-null object\n",
      "GarageCond       1379 non-null object\n",
      "PavedDrive       1460 non-null object\n",
      "WoodDeckSF       1460 non-null int64\n",
      "OpenPorchSF      1460 non-null int64\n",
      "EnclosedPorch    1460 non-null int64\n",
      "3SsnPorch        1460 non-null int64\n",
      "ScreenPorch      1460 non-null int64\n",
      "PoolArea         1460 non-null int64\n",
      "MiscVal          1460 non-null int64\n",
      "MoSold           1460 non-null int64\n",
      "YrSold           1460 non-null int64\n",
      "SaleType         1460 non-null object\n",
      "SaleCondition    1460 non-null object\n",
      "SalePrice        1460 non-null int64\n",
      "dtypes: float64(3), int64(35), object(34)\n",
      "memory usage: 821.3+ KB\n"
     ]
    }
   ],
   "source": [
    "train.info()"
   ]
  },
  {
   "cell_type": "code",
   "execution_count": 115,
   "metadata": {
    "_uuid": "15942995a07bd351229f3ef7e9f279c1fbfbf56d"
   },
   "outputs": [],
   "source": []
  }
 ],
 "metadata": {
  "kernelspec": {
   "display_name": "Python 3",
   "language": "python",
   "name": "python3"
  },
  "language_info": {
   "codemirror_mode": {
    "name": "ipython",
    "version": 3
   },
   "file_extension": ".py",
   "mimetype": "text/x-python",
   "name": "python",
   "nbconvert_exporter": "python",
   "pygments_lexer": "ipython3",
   "version": "3.6.6"
  }
 },
 "nbformat": 4,
 "nbformat_minor": 1
}
